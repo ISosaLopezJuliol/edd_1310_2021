{
  "nbformat": 4,
  "nbformat_minor": 0,
  "metadata": {
    "colab": {
      "name": "tarea9.ipynb",
      "provenance": [],
      "authorship_tag": "ABX9TyO6Ijc8wDYeFGzLlHWlf/Zq",
      "include_colab_link": true
    },
    "kernelspec": {
      "name": "python3",
      "display_name": "Python 3"
    }
  },
  "cells": [
    {
      "cell_type": "markdown",
      "metadata": {
        "id": "view-in-github",
        "colab_type": "text"
      },
      "source": [
        "<a href=\"https://colab.research.google.com/github/ISosaLopezJuliol/edd_1310_2021/blob/master/tarea9.ipynb\" target=\"_parent\"><img src=\"https://colab.research.google.com/assets/colab-badge.svg\" alt=\"Open In Colab\"/></a>"
      ]
    },
    {
      "cell_type": "code",
      "metadata": {
        "id": "MNsR2KxO85FE"
      },
      "source": [
        "class PriorityQueue:\r\n",
        "    def __init__(self):\r\n",
        "        self.__data = list()\r\n",
        "\r\n",
        "    def is_empty (self):\r\n",
        "        return len(self.__data)==0\r\n",
        "\r\n",
        "    def length(self):\r\n",
        "        return len(self.__data)\r\n",
        "\r\n",
        "    def enqueue(self, value: str, priority: int) -> None:\r\n",
        "        self.__data.append((value, priority))\r\n",
        "        self.__data = reorder_queue(self.__data)\r\n",
        "\r\n",
        "    def dequeue (self):\r\n",
        "        if not self.is_empty():\r\n",
        "            return self.__data.pop(0) \r\n",
        "        else:\r\n",
        "            return None\r\n",
        "    def to_string (self):\r\n",
        "        cadena = \"\"\r\n",
        "        for elem in self.__data:\r\n",
        "            cadena = cadena + \"|\" + str(elem)\r\n",
        "        cadena = cadena +\"|\"\r\n",
        "        return cadena\r\n",
        "def reorder_queue(queue):\r\n",
        "    return sorted(queue, key=lambda v: v[1])"
      ],
      "execution_count": 1,
      "outputs": []
    },
    {
      "cell_type": "code",
      "metadata": {
        "colab": {
          "base_uri": "https://localhost:8080/",
          "height": 89
        },
        "id": "hM-rTVwt89-l",
        "outputId": "4ebd420c-2c92-4bc8-8f01-be70da2b943d"
      },
      "source": [
        "print(\"\\nPrueba de colas con priorida no acotada\\n\")\r\n",
        "\r\n",
        "cpna = PriorityQueue()\r\n",
        "cpna.enqueue(\"maestre\", 4)\r\n",
        "cpna.enqueue(\"niños\", 2)\r\n",
        "cpna.enqueue(\"mecanico\", 4)\r\n",
        "cpna.enqueue(\"hombres\", 3)\r\n",
        "cpna.enqueue(\"vigia\", 4)\r\n",
        "cpna.enqueue(\"capitan\", 5)\r\n",
        "cpna.enqueue(\"timonel\", 4)\r\n",
        "cpna.enqueue(\"mujeres\", 3)\r\n",
        "cpna.enqueue(\"3ra edad \", 2)\r\n",
        "cpna.enqueue(\"niñas\", 1)\r\n",
        "cpna.to_string()\r\n"
      ],
      "execution_count": 2,
      "outputs": [
        {
          "output_type": "stream",
          "text": [
            "\n",
            "Prueba de colas con priorida no acotada\n",
            "\n"
          ],
          "name": "stdout"
        },
        {
          "output_type": "execute_result",
          "data": {
            "application/vnd.google.colaboratory.intrinsic+json": {
              "type": "string"
            },
            "text/plain": [
              "\"|('niñas', 1)|('niños', 2)|('3ra edad ', 2)|('hombres', 3)|('mujeres', 3)|('maestre', 4)|('mecanico', 4)|('vigia', 4)|('timonel', 4)|('capitan', 5)|\""
            ]
          },
          "metadata": {
            "tags": []
          },
          "execution_count": 2
        }
      ]
    }
  ]
}