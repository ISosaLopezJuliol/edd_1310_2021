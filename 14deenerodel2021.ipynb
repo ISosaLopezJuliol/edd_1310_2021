{
  "nbformat": 4,
  "nbformat_minor": 0,
  "metadata": {
    "colab": {
      "name": "14deenerodel2021.ipynb",
      "provenance": [],
      "authorship_tag": "ABX9TyND2ioof9DlldG04gUw/oZK",
      "include_colab_link": true
    },
    "kernelspec": {
      "name": "python3",
      "display_name": "Python 3"
    }
  },
  "cells": [
    {
      "cell_type": "markdown",
      "metadata": {
        "id": "view-in-github",
        "colab_type": "text"
      },
      "source": [
        "<a href=\"https://colab.research.google.com/github/ISosaLopezJuliol/edd_1310_2021/blob/master/14deenerodel2021.ipynb\" target=\"_parent\"><img src=\"https://colab.research.google.com/assets/colab-badge.svg\" alt=\"Open In Colab\"/></a>"
      ]
    },
    {
      "cell_type": "code",
      "metadata": {
        "colab": {
          "base_uri": "https://localhost:8080/"
        },
        "id": "Bf-CqYFmhJlt",
        "outputId": "d4767adc-3d57-49b0-88af-653e418baf00"
      },
      "source": [
        "class NodoArbol:\r\n",
        "    def __init__ (self, value , left=None , right=None):\r\n",
        "        self.data=value\r\n",
        "        self.left=left\r\n",
        "        self.right=right\r\n",
        "\r\n",
        "arbol = NodoArbol(\"R\",NodoArbol(\"C\"),NodoArbol(\"H\"))\r\n",
        "print(arbol.left.data) # Se imprime el valor izquierdo del arbol osea \"C\" \r\n",
        "print(arbol.data) # Se imprime el valor del arbol que seria \"R\"\r\n",
        "print(arbol.right.data)# Se imprime el valor derecho del arbol osea \"H\"\r\n",
        "\r\n",
        "\r\n",
        "arbol2 = NodoArbol(4,  NodoArbol(3,  NodoArbol(2,  NodoArbol(2))) ,  NodoArbol(5))\r\n",
        "print(arbol2.data)\r\n",
        "print(arbol2.left.data)\r\n",
        "print(arbol2.right.data)\r\n",
        "print(arbol2.left.left.data)\r\n",
        "print(arbol2.left.left.left.data)"
      ],
      "execution_count": 1,
      "outputs": [
        {
          "output_type": "stream",
          "text": [
            "C\n",
            "R\n",
            "H\n",
            "4\n",
            "3\n",
            "5\n",
            "2\n",
            "2\n"
          ],
          "name": "stdout"
        }
      ]
    }
  ]
}