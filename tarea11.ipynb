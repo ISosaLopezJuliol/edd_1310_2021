{
  "nbformat": 4,
  "nbformat_minor": 0,
  "metadata": {
    "colab": {
      "name": "tarea11.ipynb",
      "provenance": [],
      "authorship_tag": "ABX9TyND/WnsUU1jXnV5dfuIoloO",
      "include_colab_link": true
    },
    "kernelspec": {
      "name": "python3",
      "display_name": "Python 3"
    }
  },
  "cells": [
    {
      "cell_type": "markdown",
      "metadata": {
        "id": "view-in-github",
        "colab_type": "text"
      },
      "source": [
        "<a href=\"https://colab.research.google.com/github/ISosaLopezJuliol/edd_1310_2021/blob/master/tarea11.ipynb\" target=\"_parent\"><img src=\"https://colab.research.google.com/assets/colab-badge.svg\" alt=\"Open In Colab\"/></a>"
      ]
    },
    {
      "cell_type": "code",
      "metadata": {
        "colab": {
          "base_uri": "https://localhost:8080/"
        },
        "id": "P8d6gOCk-2mN",
        "outputId": "51a397d1-589d-4bad-d626-16191ee508c3"
      },
      "source": [
        "def printRev( n ):  #3\r\n",
        "    if n >= 0:\r\n",
        "        print( n )\r\n",
        "        printRev( n -1 )\r\n",
        "    else:\r\n",
        "        print(\"Boom hasta la protzima amigos\")\r\n",
        "        \r\n",
        "\r\n",
        "def main2():\r\n",
        "    printRev( 10 )\r\n",
        "\r\n",
        "main2()"
      ],
      "execution_count": 39,
      "outputs": [
        {
          "output_type": "stream",
          "text": [
            "10\n",
            "9\n",
            "8\n",
            "7\n",
            "6\n",
            "5\n",
            "4\n",
            "3\n",
            "2\n",
            "1\n",
            "0\n",
            "Boom hasta la protzima\n"
          ],
          "name": "stdout"
        }
      ]
    }
  ]
}