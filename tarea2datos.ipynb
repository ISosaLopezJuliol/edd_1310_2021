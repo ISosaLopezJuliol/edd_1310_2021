{
  "nbformat": 4,
  "nbformat_minor": 0,
  "metadata": {
    "colab": {
      "name": "tarea2datos.ipynb",
      "provenance": [],
      "authorship_tag": "ABX9TyOJOCHo3kg0NGXFqE3NXgpS",
      "include_colab_link": true
    },
    "kernelspec": {
      "name": "python3",
      "display_name": "Python 3"
    }
  },
  "cells": [
    {
      "cell_type": "markdown",
      "metadata": {
        "id": "view-in-github",
        "colab_type": "text"
      },
      "source": [
        "<a href=\"https://colab.research.google.com/github/ISosaLopezJuliol/edd_1310_2021/blob/master/tarea2datos.ipynb\" target=\"_parent\"><img src=\"https://colab.research.google.com/assets/colab-badge.svg\" alt=\"Open In Colab\"/></a>"
      ]
    },
    {
      "cell_type": "code",
      "metadata": {
        "id": "H0pYefIDVH-a",
        "outputId": "7d491e07-a5de-4531-a80a-f497ab81919f",
        "colab": {
          "base_uri": "https://localhost:8080/",
          "height": 689
        }
      },
      "source": [
        "print(\"Datos.txt sin espacios\")\n",
        "abrir = open(\"Datos.txt\" , 'rt')\n",
        "data = 'ppp'\n",
        "while (data != ''):\n",
        "  data = abrir.readline().replace(' ' , '')\n",
        "  print(data)\n",
        "abrir = open(\"Datos.txt\" , 'rt')\n",
        "\n",
        "\n",
        "\n",
        "abrir.close"
      ],
      "execution_count": 3,
      "outputs": [
        {
          "output_type": "stream",
          "text": [
            "Datos.txt sin espacios\n",
            "1,2,1,14,29,45,5,58,56,10,29,14,88,17,4,3,1,7,12,10\n",
            "\n",
            "\n",
            "\n",
            "2,23,5,8,44,2,2,13,5,9,10,16,98,76,47,1,1,3,2\n",
            "\n",
            "\n",
            "\n",
            "3,87,15,11,9,7,90,97,21,3,4,1,8,88,74,32,34,43,17,77,93\n",
            "\n",
            "\n",
            "\n",
            "4,46,8,1,6,2,10,37,84,4,5,9,10,2,6,31,1,1,8,4,20,33,23,18,45\n",
            "\n",
            "\n",
            "\n",
            "55,3,2,29,58,83,9,17,1,43,20,93,31,46,43,77,8,44,45,17,62\n",
            "\n",
            "\n",
            "\n",
            "6,74,13,44,18,45,11,93,2,1,1,1,25,1,42,18,22,44,52\n",
            "\n",
            "\n",
            "\n",
            "7,88,93,6,54,2,8,1,41,86,79,33,48,9,32,63,18,7,33,2,1,16,11,7\n",
            "\n",
            "\n",
            "\n",
            "8,0,22,17,30,6,2,12,47,37,34,85,47,33,2,6,8,4,5,29,30,42,77,2\n",
            "\n",
            "\n",
            "\n",
            "9,2,3,4,1,1,3,6,7,7,8,9,5,1,3,4,9,10,12,3,1,5,6,22,11,0,2\n",
            "\n",
            "\n",
            "\n",
            "1,0,2,55,9,3,55,23,1,6,9,4,5,3,3,2,1,3,8,1,6,10,0,1,5,1,3\n",
            "\n"
          ],
          "name": "stdout"
        },
        {
          "output_type": "execute_result",
          "data": {
            "text/plain": [
              "<function TextIOWrapper.close>"
            ]
          },
          "metadata": {
            "tags": []
          },
          "execution_count": 3
        }
      ]
    },
    {
      "cell_type": "code",
      "metadata": {
        "id": "qOm5UtTJUz8i",
        "outputId": "96083f3f-5a26-4183-f9f4-d10da0667316",
        "colab": {
          "base_uri": "https://localhost:8080/",
          "height": 386
        }
      },
      "source": [
        "abrir = open(\"Datos.txt\" , 'rt')\n",
        "datos = abrir.read().replace(' ' , '')\n",
        "su = datos.split(\"\\n\")\n",
        "p1= su[0].split(',')\n",
        "suma1 = ( int (p1[0]) +  int (p1[1]) + int (p1[2]) + int (p1[3]) + int (p1[4])\n",
        " + int (p1[5])+ int (p1[6]) + int (p1[7]) + int (p1[8]) + int (p1[9]) + int (p1[10])\n",
        "+ int (p1[11]) + int (p1[12]) + int (p1[13]) + int (p1[14]) + int (p1[15])\n",
        "   + int (p1[16]) + int (p1[17]) + int (p1[18]) + int (p1[19]))\n",
        "print(\"La suma del primer renglo es\")\n",
        "print(suma1)\n",
        "print(\"La suma del segundo renglon es\")\n",
        "p2 = su[2].split(',')\n",
        "suma2 = ( int (p2[0]) +  int (p2[1]) + int (p2[2]) + int (p2[3]) + int (p2[4])\n",
        "        + int (p2[5])+ int (p2[6]) + int (p2[7]) + int (p2[8]) + int (p2[9]) + int (p2[10])\n",
        "        + int (p2[11]) + int (p2[12]) + int (p2[13]) + int (p2[14]) + int (p2[15])\n",
        "        + int (p2[16]) + int (p2[17]) + int (p2[18]))\n",
        "print(suma2)\n",
        "print(\"La suma del tercer renglon es\")\n",
        "p3 = su[4].split(',')\n",
        "suma3 =(int (p3[0]) + int (p3[1]) + int (p3[2]) + int (p3[3]) + int (p3[4]) + int (p3[5])\n",
        "      + int (p3[6]) + int (p3[7]) + int (p3[8]) + int (p3[9]) + int (p3[10]) + int (p3 [11])\n",
        "      + int (p3[12]) + int (p3[13]) + int (p3[14]) + int (p3[15]) + int (p3[16]) + int (p3[17])\n",
        "      + int (p3[18]) + int (p3[19]) + int (p3[20]) )\n",
        "\n",
        "print(suma3)\n",
        "print(\"La suma del cuarto renglon es\")  \n",
        "\n",
        "p4 = su[6].split(',')\n",
        "suma4 = (int (p4[0]) + int (p4[1]) + int (p4[2]) + int (p4[3]) + int (p4[4]) + int (p4[5])\n",
        "      + int (p4[6]) + int (p4[7]) + int (p4[8]) + int (p4[9]) + int (p4[10]) + int (p4[11])\n",
        "      + int (p4[12]) + int (p4[13]) + int (p4[14]) + int (p4[15]) + int (p4[16]) + int (p4[17])\n",
        "      + int (p4[18]) + int (p4[19]) + int (p4[20]) + int (p4[21]) + int (p4[22]) + int (p4[23])\n",
        "      + int (p4[24]) )\n",
        "\n",
        " \n",
        "print(suma4)\n",
        "print(\"La suma del quinto renglon es\")\n",
        "p5 = su[8].split(',')\n",
        "suma5 = (int (p5[0]) + int (p5[1]) + int (p5[2]) + int (p5[3]) + int (p5[4]) + int (p5[5])\n",
        "      + int (p5[6]) + int (p5[7]) + int (p5[8]) + int (p5[9]) + int (p5[10]) + int (p5[11])\n",
        "      + int (p5[12]) + int (p5[13]) + int (p5[14]) + int (p5[15]) + int (p5[16]) + int (p5[17])\n",
        "      + int (p5[18]) + int (p5[19]) + int (p5[20]))\n",
        "print(suma5)\n",
        "print(\"La suma del sexto renglon es\")\n",
        "p6 = su[10].split(',')\n",
        "suma6 = (int (p6[0]) + int (p6[1]) + int (p6[2]) + int (p6[3]) + int (p6[4]) + int (p6[5])\n",
        "      + int (p6[6]) + int (p6[7]) + int (p6[8]) + int (p6[9]) + int (p6[10]) + int (p6[11])\n",
        "      + int (p6[12]) + int (p6[13]) + int (p6[14]) + int (p6[15]) + int (p6[16]) + int (p6[17])\n",
        "      + int (p6[18]))\n",
        "print(suma6)\n",
        "print(\"La suma del septimo renglon es\")\n",
        "p7 = su [12].split(',')\n",
        "suma7 = (int (p7[0]) + int (p7[1]) + int (p7[2]) + int (p7[3]) + int (p7[4]) + int (p7[5])\n",
        "      + int (p7[6]) + int (p7[7]) + int (p7[8]) + int (p7[9]) + int (p7[10]) + int (p7[11])\n",
        "      + int (p7[12]) + int (p7[13]) + int (p7[14]) + int (p7[15]) + int (p7[16]) + int (p7[17])\n",
        "      + int (p7[18]) + int (p7[19]) + int (p7[20]) + int (p7[21]) + int (p7[22]) + int (p7[23]))\n",
        "print(suma7)\n",
        "print(\"La suma del octavo renglon es\")\n",
        "p8 = su [14].split(',')\n",
        "suma8 = (int (p8[0]) + int (p8[1]) + int (p8[2]) + int (p8[3]) + int (p8[4]) + int (p8[5])\n",
        "      + int (p8[6]) + int (p8[7]) + int (p8[8]) + int (p8[9]) + int (p8[10]) + int (p8[11])\n",
        "      + int (p8[12]) + int (p8[13]) + int (p8[14]) + int (p8[15]) + int (p8[16]) + int (p8[17])\n",
        "      + int (p8[18]) + int (p8[19]) + int (p8[20]) + int (p8[21]) + int (p8[22]) + int (p8[23]))\n",
        "print(suma8)\n",
        "print(\"La suma del noveno renglon es\")\n",
        "p9 = su [16].split(',')\n",
        "suma9 = (int (p9[0]) + int (p9[1]) + int (p9[2]) + int (p9[3]) + int (p9[4]) + int (p9[5])\n",
        "      + int (p9[6]) + int (p9[7]) + int (p9[8]) + int (p9[9]) + int (p9[10]) + int (p9[11])\n",
        "      + int (p9[12]) + int (p9[13]) + int (p9[14]) + int (p9[15]) + int (p9[16]) + int (p9[17])\n",
        "      + int (p9[18]) + int (p9[19]) + int (p9[20]) + int (p9[21]) + int (p9[22]) + int (p9[23])\n",
        "      + int (p9[24]) + int (p9[25]) + int (p9[26]))\n",
        "print(suma9)\n",
        "print(\"La suma del decimo renglon es\")\n",
        "p10 = su [18].split(',')\n",
        "suma10 = (int (p10[0]) + int (p10[1]) + int (p10[2]) + int (p10[3]) + int (p10[4]) + int (p10[5])\n",
        "      + int (p10[6]) + int (p10[7]) + int (p10[8]) + int (p10[9]) + int (p10[10]) + int (p10[11])\n",
        "      + int (p10[12]) + int (p10[13]) + int (p10[14]) + int (p10[15]) + int (p10[16]) + int (p10[17])\n",
        "      + int (p10[18]) + int (p10[19]) + int (p10[20]) + int (p10[21]) + int (p10[22]) + int (p10[23])\n",
        "      + int (p10[24]) + int (p10[25]) + int (p10[26]))\n",
        "print(suma10)\n",
        "print(\"suma de todos los remglones\")\n",
        "print(suma1 + suma2 + suma3 + suma4 + suma5 + suma6 + suma7 + suma8 + suma9 + suma10)"
      ],
      "execution_count": 5,
      "outputs": [
        {
          "output_type": "stream",
          "text": [
            "La suma del primer renglo es\n",
            "406\n",
            "La suma del segundo renglon es\n",
            "367\n",
            "La suma del tercer renglon es\n",
            "814\n",
            "La suma del cuarto renglon es\n",
            "418\n",
            "La suma del quinto renglon es\n",
            "786\n",
            "La suma del sexto renglon es\n",
            "513\n",
            "La suma del septimo renglon es\n",
            "745\n",
            "La suma del octavo renglon es\n",
            "585\n",
            "La suma del noveno renglon es\n",
            "154\n",
            "La suma del decimo renglon es\n",
            "220\n",
            "suma de todos los remglones\n",
            "5008\n"
          ],
          "name": "stdout"
        }
      ]
    }
  ]
}