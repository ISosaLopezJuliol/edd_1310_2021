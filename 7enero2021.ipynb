{
  "nbformat": 4,
  "nbformat_minor": 0,
  "metadata": {
    "colab": {
      "name": "7enero2021.ipynb",
      "provenance": [],
      "authorship_tag": "ABX9TyNiC3uHEcytkxfOBya2EFCA",
      "include_colab_link": true
    },
    "kernelspec": {
      "name": "python3",
      "display_name": "Python 3"
    }
  },
  "cells": [
    {
      "cell_type": "markdown",
      "metadata": {
        "id": "view-in-github",
        "colab_type": "text"
      },
      "source": [
        "<a href=\"https://colab.research.google.com/github/ISosaLopezJuliol/edd_1310_2021/blob/master/7enero2021.ipynb\" target=\"_parent\"><img src=\"https://colab.research.google.com/assets/colab-badge.svg\" alt=\"Open In Colab\"/></a>"
      ]
    },
    {
      "cell_type": "code",
      "metadata": {
        "id": "Px3aGbpb48Xz"
      },
      "source": [
        "class Queue:\r\n",
        "    def __init__(self):\r\n",
        "        self.__data = list()\r\n",
        "\r\n",
        "    def is_empty (self):\r\n",
        "        return len(self.__data)==0\r\n",
        "\r\n",
        "    def length(self):\r\n",
        "        return len(self.__data)\r\n",
        "\r\n",
        "    def enqueue(self,elem):\r\n",
        "        self.__data.append(elem)\r\n",
        "    \r\n",
        "    def dequeue (self):\r\n",
        "        if not self.is_empty():\r\n",
        "            return self.__data.pop(0) \r\n",
        "        else:\r\n",
        "            return None\r\n",
        "            \r\n",
        "    def to_string (self):\r\n",
        "        cadena = \"\"\r\n",
        "        for elem in self.__data:\r\n",
        "            cadena = cadena + \"|\" + str(elem)\r\n",
        "        cadena = cadena +\"|\"\r\n",
        "        return cadena\r\n",
        "\r\n",
        "# Tarea Pryority Queue\r\n",
        "\r\n",
        "class BoundedPriorityQueue:\r\n",
        "    def __init__(self , niveles):\r\n",
        "        self.__data = [ Queue() for x in range(niveles) ]\r\n",
        "        self.__size = 0\r\n",
        "\r\n",
        "    def is_empty (self):\r\n",
        "        return self.__size == 0\r\n",
        "\r\n",
        "    def length(self):\r\n",
        "        return self.__size\r\n",
        "\r\n",
        "    def enqueue(self,prioridad,elem):\r\n",
        "        if prioridad < len(self.__data) and prioridad >= 0:\r\n",
        "            self.__data[prioridad].enqueue(elem)\r\n",
        "            self.__size += 1\r\n",
        "\r\n",
        "    def dequeue(self):\r\n",
        "        if not self.is_empty():\r\n",
        "            for nivel in self.__data:\r\n",
        "                if not nivel.is_empty():\r\n",
        "                    self.__size -= 1\r\n",
        "                    return nivel.dequeue()\r\n",
        "\r\n",
        "    def to_string(self):\r\n",
        "        print(\"cola:\")\r\n",
        "        for nivel in range(len(self.__data ) ):\r\n",
        "            print(f\"Nivel {nivel} : {self.__data[nivel].to_string()} \") \r\n"
      ],
      "execution_count": 27,
      "outputs": []
    },
    {
      "cell_type": "code",
      "metadata": {
        "colab": {
          "base_uri": "https://localhost:8080/"
        },
        "id": "-wbf9xpqH98S",
        "outputId": "2b8d9ed1-f02b-4c30-9642-fb3a7a49b68c"
      },
      "source": [
        "q1 = Queue()\r\n",
        "q1.enqueue(3)\r\n",
        "q1.enqueue(33)\r\n",
        "q1.enqueue(23)\r\n",
        "print(q1.to_string())\r\n",
        "\r\n",
        "print(\"Prueba 2 de Queue\")\r\n",
        "c1={'id': 1 ,  \"nombre\":\"Mario\" , \"balance\": 20.5 }\r\n",
        "c2={'id': 2 ,  \"nombre\":\"Maria\" , \"balance\": 3456.5 }\r\n",
        "c3={'id': 3 ,  \"nombre\":\"Juan\" , \"balance\": 1000000.0 }\r\n",
        "\r\n",
        "atencion = Queue()\r\n",
        "atencion.enqueue(c1)\r\n",
        "atencion.enqueue(c2)\r\n",
        "atencion.enqueue(c3)\r\n",
        "print(atencion.to_string())\r\n",
        "siguiente = atencion.dequeue()\r\n",
        "print(f\"Bienvenido sr.{siguiente['nombre']}, en que podemos servirle el dia de hoy\")\r\n",
        "print(atencion.to_string())\r\n",
        "\r\n",
        "print(\"Prueba de las colas con priorida acotada\")\r\n",
        "\r\n",
        "maestres = {\"prioridad\" : 4 , \"descripcion\" : \"Maestre\" , \"personas\" : [\"juan p\" , \"diego h\"] }\r\n",
        "niños = {\"prioridad\" : 2 , \"descripcion\" : \"Niños\" , \"personas\" : [\"santi h\" , \"angel h\"] }\r\n",
        "mecanicos = {\"prioridad\" : 4 , \"descripcion\" : \"Mecanicos\" , \"personas\" : [\"diana t\" , \"maria z\"] }\r\n",
        "\r\n",
        "cpa = BoundedPriorityQueue(7)\r\n",
        "cpa.enqueue(maestres['prioridad'] , maestres)\r\n",
        "cpa.enqueue(niños['prioridad'] , niños)\r\n",
        "cpa.enqueue(mecanicos['prioridad'] , mecanicos)\r\n",
        "cpa.to_string()\r\n"
      ],
      "execution_count": 28,
      "outputs": [
        {
          "output_type": "stream",
          "text": [
            "|3|33|23|\n",
            "Prueba 2 de Queue\n",
            "|{'id': 1, 'nombre': 'Mario', 'balance': 20.5}|{'id': 2, 'nombre': 'Maria', 'balance': 3456.5}|{'id': 3, 'nombre': 'Juan', 'balance': 1000000.0}|\n",
            "Bienvenido sr.Mario, en que podemos servirle el dia de hoy\n",
            "|{'id': 2, 'nombre': 'Maria', 'balance': 3456.5}|{'id': 3, 'nombre': 'Juan', 'balance': 1000000.0}|\n",
            "Prueba de las colas con priorida acotada\n",
            "cola:\n",
            "Nivel 0 : | \n",
            "Nivel 1 : | \n",
            "Nivel 2 : |{'prioridad': 2, 'descripcion': 'Niños', 'personas': ['santi h', 'angel h']}| \n",
            "Nivel 3 : | \n",
            "Nivel 4 : |{'prioridad': 4, 'descripcion': 'Maestre', 'personas': ['juan p', 'diego h']}|{'prioridad': 4, 'descripcion': 'Mecanicos', 'personas': ['diana t', 'maria z']}| \n",
            "Nivel 5 : | \n",
            "Nivel 6 : | \n"
          ],
          "name": "stdout"
        }
      ]
    }
  ]
}