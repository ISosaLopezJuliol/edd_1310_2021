{
  "nbformat": 4,
  "nbformat_minor": 0,
  "metadata": {
    "colab": {
      "name": "03dediciembre2020.ipynb",
      "provenance": [],
      "authorship_tag": "ABX9TyNsTwx6MeJU4j5c0Ik1TcaY",
      "include_colab_link": true
    },
    "kernelspec": {
      "name": "python3",
      "display_name": "Python 3"
    }
  },
  "cells": [
    {
      "cell_type": "markdown",
      "metadata": {
        "id": "view-in-github",
        "colab_type": "text"
      },
      "source": [
        "<a href=\"https://colab.research.google.com/github/ISosaLopezJuliol/edd_1310_2021/blob/master/03dediciembre2020.ipynb\" target=\"_parent\"><img src=\"https://colab.research.google.com/assets/colab-badge.svg\" alt=\"Open In Colab\"/></a>"
      ]
    },
    {
      "cell_type": "code",
      "metadata": {
        "id": "6a7UPIVXt9BE"
      },
      "source": [
        "class Array2D:\n",
        "\n",
        "    def __init__(self,rows, cols, value):\n",
        "        self.__cols = cols\n",
        "        self.__rows = rows\n",
        "        self.__array=[[value for x in range(self.__cols)] for y in range(self.__rows)]\n",
        "\n",
        "    def to_string(self):\n",
        "        [print(\"---\",end=\"\") for x in range(self.__cols)]\n",
        "        print(\"\")\n",
        "        for ren in self.__array:\n",
        "            print(ren)\n",
        "        [print(\"---\",end=\"\") for x in range(self.__cols)]\n",
        "        print(\"\")\n",
        "\n",
        "    def get_num_rows(self):\n",
        "        return self.__rows\n",
        "\n",
        "    def get_num_cols(self):\n",
        "        return self.__cols\n",
        "\n",
        "    def get_item(self,row,col):\n",
        "        return self.__array[row][col]\n",
        "\n",
        "    def set_item( self , row , col , valor ):\n",
        "        self.__array[row][col]=valor\n",
        "\n",
        "    def clearing(self, valor=0):\n",
        "        for ren in range(self.__rows):\n",
        "            for col in range(self.__cols):\n",
        "                self.__array[ren][col]=valor"
      ],
      "execution_count": 1,
      "outputs": []
    },
    {
      "cell_type": "code",
      "metadata": {
        "id": "TFjarzf73H3L"
      },
      "source": [
        "class Stack:\n",
        "    def __init__(self):\n",
        "        self.__data = list()\n",
        "\n",
        "    def is_empty(self):\n",
        "        return len(self.__data) == 0\n",
        "\n",
        "    def lenght(self):\n",
        "        return len(self.__data)\n",
        "\n",
        "    def pop(self):\n",
        "        if self.is_empty():\n",
        "            print('Pila vacía')\n",
        "\n",
        "        else:\n",
        "            return self.__data.pop()\n",
        "\n",
        "    def push(self, value):\n",
        "        self.__data.append(value)\n",
        "\n",
        "    def peek(self):\n",
        "        return self.__data[len(self.__data)-1]\n",
        "\n",
        "    def to_string(self):\n",
        "        print('-------')\n",
        "        for item in self.__data[::-1]:\n",
        "            print(f'|  {item}  |')\n",
        "            print('-------')\n",
        "        print('\\n')"
      ],
      "execution_count": 6,
      "outputs": []
    },
    {
      "cell_type": "code",
      "metadata": {
        "id": "W8TlGiw9uIvz"
      },
      "source": [
        "class LaberintoADT:\n",
        "    # 0 = pasillo,  1 = pared, S salida y E entrada  \n",
        "    #pasillo es una tupla((2,1),(2,2),(2,3),(2,4),(3,2),(4,2))\n",
        "    #entrada tambien como una tupla (5,2)\n",
        "    #salida tambien como una tupla (2,5)\n",
        "    def __init__(self , ren, cols, pasillos,entrada,salida ):\n",
        "        self.__laberinto = Array2D(ren, cols, '1')\n",
        "        for pasillo in pasillos:\n",
        "            self.__laberinto.set_item(pasillo[0],pasillo[1], '0')\n",
        "        self.set_entrada(entrada[0],entrada[1])\n",
        "        self.set_salida(salida[0],salida[1])\n",
        "        self.__camino = Stack()\n",
        "            self.__previa\n",
        "        \n",
        "\n",
        "    def to_string (self):\n",
        "        self.__laberinto.to_string()\n",
        "    \"\"\"\n",
        "    Establece la entrada poniendo una 'E', verificar limites\n",
        "    \"\"\"\n",
        "    def set_entrada(self, ren, cols):\n",
        "        self.__laberinto.set_item(ren,cols,'E')\n",
        "    \"\"\"\n",
        "    Establece la salida poniendo una 'E', verificar limites\n",
        "    \"\"\"\n",
        "    def set_salida(self, ren, cols):\n",
        "        self.__laberinto.set_item(ren,cols,'S')\n",
        "\n",
        "    def es_salida(self , ren , col):\n",
        "        return self.__laberinto.get_item(ren , col) == 'S'\n",
        "\n",
        "    def buscar_entrada(self):\n",
        "        encontrado = False\n",
        "        for renglon in range(self.__laberinto.get_num_rows()):\n",
        "            for columna in range( self.__laberinto.get_num_cols()):\n",
        "                if self.__laberinto.get_item(renglon , columna) == 'E':\n",
        "                    self.__camino.push(tuple(renglon, columna))\n",
        "                    encontrado = True\n",
        "        return encontrado\n",
        "\n",
        "    def set_previa(self , pos_previa):\n",
        "        self__previa = pos_previa\n",
        "\n",
        "    def get_previa (self):\n",
        "        return self.__previa\n",
        "\n",
        "    def resolver_laberinto(self):\n",
        "        #Aplicar reglas"
      ],
      "execution_count": 9,
      "outputs": []
    },
    {
      "cell_type": "code",
      "metadata": {
        "colab": {
          "base_uri": "https://localhost:8080/"
        },
        "id": "M4sKskiruP8W",
        "outputId": "6f4a9188-eab3-476a-9d9e-c25d86f5eefd"
      },
      "source": [
        "\n",
        "pasillos_incial = ((2,1),(2,2),(2,3),(2,4),(3,2),(4,2))\n",
        "lab = LaberintoADT(6,6,pasillos_incial,(5,2),(2,5))\n",
        "lab.to_string()"
      ],
      "execution_count": 3,
      "outputs": [
        {
          "output_type": "stream",
          "text": [
            "------------------\n",
            "['1', '1', '1', '1', '1', '1']\n",
            "['1', '1', '1', '1', '1', '1']\n",
            "['1', '0', '0', '0', '0', 'S']\n",
            "['1', '1', '0', '1', '1', '1']\n",
            "['1', '1', '0', '1', '1', '1']\n",
            "['1', '1', 'E', '1', '1', '1']\n",
            "------------------\n"
          ],
          "name": "stdout"
        }
      ]
    }
  ]
}