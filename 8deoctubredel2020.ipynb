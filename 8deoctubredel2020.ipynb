{
  "nbformat": 4,
  "nbformat_minor": 0,
  "metadata": {
    "colab": {
      "name": "Untitled1.ipynb",
      "provenance": [],
      "authorship_tag": "ABX9TyMy5aJ5UZWr9tCM4/oNvwDb",
      "include_colab_link": true
    },
    "kernelspec": {
      "name": "python3",
      "display_name": "Python 3"
    }
  },
  "cells": [
    {
      "cell_type": "markdown",
      "metadata": {
        "id": "view-in-github",
        "colab_type": "text"
      },
      "source": [
        "<a href=\"https://colab.research.google.com/github/ISosaLopezJuliol/edd_1310_2021/blob/master/8deoctubredel2020.ipynb\" target=\"_parent\"><img src=\"https://colab.research.google.com/assets/colab-badge.svg\" alt=\"Open In Colab\"/></a>"
      ]
    },
    {
      "cell_type": "code",
      "metadata": {
        "id": "r0Fwnbr4_tQb",
        "outputId": "18b4d80e-4b92-4a94-835c-ae0ca6af9610",
        "colab": {
          "base_uri": "https://localhost:8080/",
          "height": 173
        }
      },
      "source": [
        "monitores =[[\"Samsung\",\"17.3 \\\"\",1024],[\"BenQ\",\"40\\\"\",2048]]\n",
        "procesadores = [[\"Intel\",\"i7\",3.4],[\"AMD\",\"razzer\",3.3],[\"Intel\",\"i3\",3.1]]\n",
        "memorias = [[\"Kingston\", \"8GB\",\"DDR4\"],[\"Kingston\", \"16GB\",\"DDR3\"],[\"ADATA\", \"32GB\",\"DDR4\"]]\n",
        "color = 'rojo'\n",
        "print(color)\n",
        "componentes = [monitores,procesadores,memorias]\n",
        "print(componentes)\n",
        "print(componentes[1])\n",
        "print(componentes [2][1][1])\n",
        "print(int(componentes[0][1][2])*2)\n",
        "print(color[0:3:1])\n",
        "print(componentes[1][1][1][2:4:1])\n",
        "print(componentes[2][2][0].lower())"
      ],
      "execution_count": 29,
      "outputs": [
        {
          "output_type": "stream",
          "text": [
            "rojo\n",
            "[[['Samsung', '17.3 \"', 1024], ['BenQ', '40\"', 2048]], [['Intel', 'i7', 3.4], ['AMD', 'razzer', 3.3], ['Intel', 'i3', 3.1]], [['Kingston', '8GB', 'DDR4'], ['Kingston', '16GB', 'DDR3'], ['ADATA', '32GB', 'DDR4']]]\n",
            "[['Intel', 'i7', 3.4], ['AMD', 'razzer', 3.3], ['Intel', 'i3', 3.1]]\n",
            "16GB\n",
            "4096\n",
            "roj\n",
            "zz\n",
            "adata\n"
          ],
          "name": "stdout"
        }
      ]
    },
    {
      "cell_type": "markdown",
      "metadata": {
        "id": "haJSOLhjHqnO"
      },
      "source": [
        "# copiar listas\n",
        "\n",
        "#extender listas\n"
      ]
    },
    {
      "cell_type": "code",
      "metadata": {
        "id": "oO_DymL4Il1w",
        "outputId": "de4a2275-483c-4067-8104-30abcfe3f958",
        "colab": {
          "base_uri": "https://localhost:8080/",
          "height": 221
        }
      },
      "source": [
        "frutas =[\"manzana\",\"pera\"]\n",
        "otras_frutas = [\"aguacate\",\"sandia\"]\n",
        "\n",
        "# + sobre listas\n",
        "frutas = frutas + otras_fruta\n",
        "print(frutas)\n",
        "#funcion extend\n",
        "frutas.append(otras_fruta)\n",
        "print(frutas)\n",
        "\n",
        "# funcion extend()\n",
        "\n",
        "frutas.extend(otras_fruta)\n",
        "print(frutas)\n",
        "frutas.append(otras_fruta)\n",
        "print(frutas)\n",
        "\n",
        "# copiar\n",
        "colores = ['azul' , 'rojo' , 'verde' , 'violeta']\n",
        "otros_colores = colores\n",
        "print(colores)\n",
        "print(otros_colores)\n",
        "otros_colores.append('rosa')\n",
        "print(colores)\n",
        "print(otros_colores)\n",
        "\n",
        "una_mas = colores.copy()\n",
        "print(una_mas)\n",
        "una_mas.append('gris')\n",
        "print(una_mas)\n",
        "print(colores)\n",
        "\n",
        "\n"
      ],
      "execution_count": 47,
      "outputs": [
        {
          "output_type": "stream",
          "text": [
            "['manzana', 'pera', 'aguacate', 'sandia']\n",
            "['manzana', 'pera', 'aguacate', 'sandia', ['aguacate', 'sandia']]\n",
            "['manzana', 'pera', 'aguacate', 'sandia', ['aguacate', 'sandia'], 'aguacate', 'sandia']\n",
            "['manzana', 'pera', 'aguacate', 'sandia', ['aguacate', 'sandia'], 'aguacate', 'sandia', ['aguacate', 'sandia']]\n",
            "['azul', 'rojo', 'verde', 'violeta']\n",
            "['azul', 'rojo', 'verde', 'violeta']\n",
            "['azul', 'rojo', 'verde', 'violeta', 'rosa']\n",
            "['azul', 'rojo', 'verde', 'violeta', 'rosa']\n",
            "['azul', 'rojo', 'verde', 'violeta', 'rosa']\n",
            "['azul', 'rojo', 'verde', 'violeta', 'rosa', 'gris']\n",
            "['azul', 'rojo', 'verde', 'violeta', 'rosa']\n",
            "alumno:jesus carrera:ico promedio=10.0\n"
          ],
          "name": "stdout"
        }
      ]
    },
    {
      "cell_type": "code",
      "metadata": {
        "id": "fWvLNtr7PQNF",
        "outputId": "b7486534-9ef9-430a-8217-a1d6e87a21c0",
        "colab": {
          "base_uri": "https://localhost:8080/",
          "height": 34
        }
      },
      "source": [
        "# unpaking de listas\n",
        "\n",
        "alumno = ['jesus' , 'perez' , 'herrera' , 22 , 'ico' , 10.0]\n",
        "#nombre = alumno[0]\n",
        "#paterno = alumno[1]\n",
        "#etc\n",
        "nombre,paterno,materno,edad,carrera,promedio = alumno\n",
        "print(f'alumno:{nombre} carrera:{carrera} promedio={promedio}')"
      ],
      "execution_count": 49,
      "outputs": [
        {
          "output_type": "stream",
          "text": [
            "alumno:jesus carrera:ico promedio=10.0\n"
          ],
          "name": "stdout"
        }
      ]
    },
    {
      "cell_type": "markdown",
      "metadata": {
        "id": "uxBKTA1JR4M0"
      },
      "source": [
        "#tuplas\n",
        "\n",
        "- se declaran con ()\n",
        "- el selector es []\n",
        "- no son mutables"
      ]
    },
    {
      "cell_type": "code",
      "metadata": {
        "id": "l_BinDikSOVs",
        "outputId": "cb64495e-14a1-4b19-fc88-984b8385101d",
        "colab": {
          "base_uri": "https://localhost:8080/",
          "height": 68
        }
      },
      "source": [
        "precios = (99.9 , 49.9 , 12.45 , 33.44 , 55.66 )\n",
        "print(precios[1])\n",
        "print(precios)\n",
        "print(precios[2:4])"
      ],
      "execution_count": 52,
      "outputs": [
        {
          "output_type": "stream",
          "text": [
            "49.9\n",
            "(99.9, 49.9, 12.45, 33.44, 55.66)\n",
            "(12.45, 33.44)\n"
          ],
          "name": "stdout"
        }
      ]
    },
    {
      "cell_type": "markdown",
      "metadata": {
        "id": "ktqQRRlJTkoZ"
      },
      "source": [
        "#diccionarios\n",
        "\n",
        "- se declaran con {}\n",
        "- son mutables\n",
        "- conjunto de llaves : valor\n",
        "- equivalentes a tipo valor JSON de JavaScript\n"
      ]
    },
    {
      "cell_type": "code",
      "metadata": {
        "id": "gbdlYQh5T6Di",
        "outputId": "10269970-2e98-4893-9072-670b97057ef0",
        "colab": {
          "base_uri": "https://localhost:8080/",
          "height": 173
        }
      },
      "source": [
        "cliente = {  }\n",
        "print(cliente)\n",
        "alumno = {   'num_cta'  : 316105037}\n",
        "print(alumno)\n",
        "\n",
        "alumno = { \n",
        "          'num_cta'  : 316105037 ,\n",
        "          'carrera' : 'ICO' ,\n",
        "          'promedio' : 9.8, \n",
        "          'materias' : ['EDD', 'CyP' , 'calidad' , 'Emprendimiento'] , \n",
        "          'direccion'  : {\n",
        "                              'calle' : 'Av Alfredo del Mazo' ,\n",
        "                              'numero' : 48 ,\n",
        "                               'delegacion' : 'tlalnepantla' ,\n",
        "                                'estado' : {\n",
        "                                                 'nombre' : 'Estado de México' ,\n",
        "                                                 'nombre_corto' : 'EdoMéx'\n",
        "                                                 \n",
        "                                           } ,\n",
        "                                 'C.P' : 54140\n",
        "                      \n",
        "                            \n",
        "                         }\n",
        "          \n",
        "          \n",
        "          \n",
        "          }\n",
        "print(alumno)\n",
        "print(alumno['materias'])\n",
        "print(alumno['promedio'])\n",
        "print(alumno['direccion'])\n",
        "print(alumno['direccion']['estado']['nombre'])\n",
        "print(alumno['direccion']['estado']['nombre_corto'])"
      ],
      "execution_count": 58,
      "outputs": [
        {
          "output_type": "stream",
          "text": [
            "{}\n",
            "{'num_cta': 316105037}\n",
            "{'num_cta': 316105037, 'carrera': 'ICO', 'promedio': 9.8, 'materias': ['EDD', 'CyP', 'calidad', 'Emprendimiento'], 'direccion': {'calle': 'Av Alfredo del Mazo', 'numero': 48, 'delegacion': 'tlalnepantla', 'estado': {'nombre': 'Estado de México', 'nombre_corto': 'EdoMéx'}, 'C.P': 54140}}\n",
            "['EDD', 'CyP', 'calidad', 'Emprendimiento']\n",
            "9.8\n",
            "{'calle': 'Av Alfredo del Mazo', 'numero': 48, 'delegacion': 'tlalnepantla', 'estado': {'nombre': 'Estado de México', 'nombre_corto': 'EdoMéx'}, 'C.P': 54140}\n",
            "Estado de México\n",
            "EdoMéx\n"
          ],
          "name": "stdout"
        }
      ]
    }
  ]
}