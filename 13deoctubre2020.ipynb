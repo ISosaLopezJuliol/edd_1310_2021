{
  "nbformat": 4,
  "nbformat_minor": 0,
  "metadata": {
    "colab": {
      "name": "13deoctubre2020.ipynb",
      "provenance": [],
      "authorship_tag": "ABX9TyNqAAOOSJHO1ZdlbJOy83xp",
      "include_colab_link": true
    },
    "kernelspec": {
      "name": "python3",
      "display_name": "Python 3"
    }
  },
  "cells": [
    {
      "cell_type": "markdown",
      "metadata": {
        "id": "view-in-github",
        "colab_type": "text"
      },
      "source": [
        "<a href=\"https://colab.research.google.com/github/ISosaLopezJuliol/edd_1310_2021/blob/master/13deoctubre2020.ipynb\" target=\"_parent\"><img src=\"https://colab.research.google.com/assets/colab-badge.svg\" alt=\"Open In Colab\"/></a>"
      ]
    },
    {
      "cell_type": "code",
      "metadata": {
        "id": "HEAdrrofuvZr",
        "outputId": "1c7bb25f-6c82-4de4-8a9b-711335e1c8fa",
        "colab": {
          "base_uri": "https://localhost:8080/",
          "height": 105
        }
      },
      "source": [
        "alumno = { \n",
        "          \"num_cta\" : 303030303 ,\n",
        "          \"carrera\" : \"ICO\",\n",
        "          \"promedio\" : 9.8,\n",
        "          \"materias\" :[\"EDD\",\"CyP\",\"Calidad\",\"Emprendimiento\"],\n",
        "          \"direccion\" : { \n",
        "                            \"calle\":\"rancho seco\",\n",
        "                            \"numero\" : 23 ,\n",
        "                            \"delegacion\" : \"Neza\",\n",
        "                            \"estado\" : {\n",
        "                                        \"id\" : 15 ,\n",
        "                                        \"nombre\" : \"Estado de Máxico\" ,\n",
        "                                        \"nombre_corto\" : \"EdoMex\"\n",
        "                                        } ,\n",
        "                            \"CP\":57170\n",
        "\n",
        "                        } \n",
        "          }\n",
        "print(alumno)\n",
        "alumno['carrera'] = \"ingenieria en computación\"\n",
        "print(alumno)\n",
        "alumno['nombre_completo'] = {'primer' : 'Juan' ,\n",
        "                             'segundo' : 'Pedro' ,\n",
        "                              'materno' : 'Perez' ,\n",
        "                              'paterno' : 'Gomez'}\n",
        "alumno['semestre'] = 3\n",
        "print(alumno)\n",
        "print(f\"{alumno['nombre_completo']['primer']}{alumno['nombre_completo']['segundo']}\")"
      ],
      "execution_count": null,
      "outputs": [
        {
          "output_type": "stream",
          "text": [
            "{'num_cta': 303030303, 'carrera': 'ICO', 'promedio': 9.8, 'materias': ['EDD', 'CyP', 'Calidad', 'Emprendimiento'], 'direccion': {'calle': 'rancho seco', 'numero': 23, 'delegacion': 'Neza', 'estado': {'id': 15, 'nombre': 'Estado de Máxico', 'nombre_corto': 'EdoMex'}, 'CP': 57170}}\n",
            "{'num_cta': 303030303, 'carrera': 'ingenieria en computación', 'promedio': 9.8, 'materias': ['EDD', 'CyP', 'Calidad', 'Emprendimiento'], 'direccion': {'calle': 'rancho seco', 'numero': 23, 'delegacion': 'Neza', 'estado': {'id': 15, 'nombre': 'Estado de Máxico', 'nombre_corto': 'EdoMex'}, 'CP': 57170}}\n",
            "{'num_cta': 303030303, 'carrera': 'ingenieria en computación', 'promedio': 9.8, 'materias': ['EDD', 'CyP', 'Calidad', 'Emprendimiento'], 'direccion': {'calle': 'rancho seco', 'numero': 23, 'delegacion': 'Neza', 'estado': {'id': 15, 'nombre': 'Estado de Máxico', 'nombre_corto': 'EdoMex'}, 'CP': 57170}, 'nombre_completo': {'primer': 'Juan', 'segundo': 'Pedro', 'materno': 'Perez', 'paterno': 'Gomez'}, 'semestre': 3}\n",
            "JuanPedro\n"
          ],
          "name": "stdout"
        }
      ]
    },
    {
      "cell_type": "code",
      "metadata": {
        "id": "JVin5Nxex-Ia",
        "outputId": "9441b77f-5fb9-4058-d1c9-e3b203854176",
        "colab": {
          "base_uri": "https://localhost:8080/",
          "height": 428
        }
      },
      "source": [
        "# key() , values() y items()\n",
        "\n",
        "llaves = alumno.keys()\n",
        "print(llaves)\n",
        "for llave in llaves:\n",
        "     print(llave.upper())\n",
        "valores = alumno.values()\n",
        "for val in valores:\n",
        "    print(val)\n",
        "pares = alumno.items()\n",
        "print(pares)\n",
        "for elem in pares:\n",
        "  print(f'el campo{elem[0] } tiene el valor {elem[1]}')"
      ],
      "execution_count": null,
      "outputs": [
        {
          "output_type": "stream",
          "text": [
            "dict_keys(['num_cta', 'carrera', 'promedio', 'materias', 'direccion', 'nombre_completo', 'semestre'])\n",
            "NUM_CTA\n",
            "CARRERA\n",
            "PROMEDIO\n",
            "MATERIAS\n",
            "DIRECCION\n",
            "NOMBRE_COMPLETO\n",
            "SEMESTRE\n",
            "303030303\n",
            "ingenieria en computación\n",
            "9.8\n",
            "['EDD', 'CyP', 'Calidad', 'Emprendimiento']\n",
            "{'calle': 'rancho seco', 'numero': 23, 'delegacion': 'Neza', 'estado': {'id': 15, 'nombre': 'Estado de Máxico', 'nombre_corto': 'EdoMex'}, 'CP': 57170}\n",
            "{'primer': 'Juan', 'segundo': 'Pedro', 'materno': 'Perez', 'paterno': 'Gomez'}\n",
            "3\n",
            "dict_items([('num_cta', 303030303), ('carrera', 'ingenieria en computación'), ('promedio', 9.8), ('materias', ['EDD', 'CyP', 'Calidad', 'Emprendimiento']), ('direccion', {'calle': 'rancho seco', 'numero': 23, 'delegacion': 'Neza', 'estado': {'id': 15, 'nombre': 'Estado de Máxico', 'nombre_corto': 'EdoMex'}, 'CP': 57170}), ('nombre_completo', {'primer': 'Juan', 'segundo': 'Pedro', 'materno': 'Perez', 'paterno': 'Gomez'}), ('semestre', 3)])\n",
            "el camponum_cta tiene el valor 303030303\n",
            "el campocarrera tiene el valor ingenieria en computación\n",
            "el campopromedio tiene el valor 9.8\n",
            "el campomaterias tiene el valor ['EDD', 'CyP', 'Calidad', 'Emprendimiento']\n",
            "el campodireccion tiene el valor {'calle': 'rancho seco', 'numero': 23, 'delegacion': 'Neza', 'estado': {'id': 15, 'nombre': 'Estado de Máxico', 'nombre_corto': 'EdoMex'}, 'CP': 57170}\n",
            "el camponombre_completo tiene el valor {'primer': 'Juan', 'segundo': 'Pedro', 'materno': 'Perez', 'paterno': 'Gomez'}\n",
            "el camposemestre tiene el valor 3\n"
          ],
          "name": "stdout"
        }
      ]
    },
    {
      "cell_type": "code",
      "metadata": {
        "id": "aXGPtaYAzuPf",
        "outputId": "ecc1260d-5860-434e-b6aa-08a2a3886398",
        "colab": {
          "base_uri": "https://localhost:8080/",
          "height": 34
        }
      },
      "source": [
        "# Concatenar diccionarios \n",
        "computadora = {\"procesador\" : 'intel i7' , 'ram' : 'kingston 128GB'}\n",
        "otros = {'monitor' : 'LG 49\\' ', 'hd' : 'Toshiba 1TB'}\n",
        "computadora.update(otros)\n",
        "print(computadora)"
      ],
      "execution_count": null,
      "outputs": [
        {
          "output_type": "stream",
          "text": [
            "{'procesador': 'intel i7', 'ram': 'kingston 128GB', 'monitor': \"LG 49' \", 'hd': 'Toshiba 1TB'}\n"
          ],
          "name": "stdout"
        }
      ]
    },
    {
      "cell_type": "markdown",
      "metadata": {
        "id": "Hee-VNxI2oWA"
      },
      "source": [
        "# funciones  (modularia)\n",
        "- son unidades de codigo reutilizable\n",
        "- es un mecanismo de organizacion de codigo\n",
        "- una funcion toma de 0 a n parametros de entrada \n",
        "- tiene una sola salida (return) de cualquier tipo de dato \n",
        "- solo puedes hacer dos cosas\n",
        "      - definir \n",
        "      - llamar\n",
        "- se define con la palabra reservada 'def'"
      ]
    },
    {
      "cell_type": "code",
      "metadata": {
        "id": "eY4WIi_p38yL",
        "outputId": "74cbe101-b186-41de-8cc8-8a4f7414d574",
        "colab": {
          "base_uri": "https://localhost:8080/",
          "height": 170
        }
      },
      "source": [
        "def sumar(x,y):\n",
        "    resultado = x + y \n",
        "    return resultado\n",
        "    \n",
        "def saludar(nombre):\n",
        "     print(f\"Hola {nombre}, como estas\")\n",
        "     return None #no regresa nada\n",
        "\n",
        "# procesar None\n",
        "\n",
        "def multiplicar (valor, veces):\n",
        "    if valor !=None:\n",
        "        c= valor * veces\n",
        "    else:\n",
        "      c=\"operacion no valida\"\n",
        "\n",
        "    return c\n",
        "\n",
        "def operacion (a, b, c):\n",
        "    res =a + (b/c)\n",
        "    return res\n",
        "\n",
        "\n",
        "\n",
        "c=sumar(3,7)\n",
        "print(c)\n",
        "saludar(\"Cesar\")\n",
        "#print(saludar('César')) # regresa nada\n",
        "print(sumar(10,5))\n",
        "print(sumar(2,6))\n",
        "print(multiplicar(5,6))\n",
        "print(multiplicar(None,6))\n",
        "print(operacion(2,9,3))\n",
        "print(operacion(2,3,9))\n",
        "\n",
        "print(operacion(a=2,c=3,b=9))\n",
        "\n",
        "\n"
      ],
      "execution_count": null,
      "outputs": [
        {
          "output_type": "stream",
          "text": [
            "10\n",
            "Hola Cesar, como estas\n",
            "15\n",
            "8\n",
            "30\n",
            "operacion no valida\n",
            "5.0\n",
            "2.3333333333333335\n",
            "5.0\n"
          ],
          "name": "stdout"
        }
      ]
    },
    {
      "cell_type": "code",
      "metadata": {
        "id": "amvAoBdk-jM3",
        "outputId": "9b89fd3e-3224-4633-cec6-7b172ab4b484",
        "colab": {
          "base_uri": "https://localhost:8080/",
          "height": 272
        }
      },
      "source": [
        "# valores por defecto \n",
        "def comanda( primer , fuerte , postre = \"galleta de animalito\" ):\n",
        "  print(f'De entrada pidio:{primer}')\n",
        "  print(f'De plato fuerte:{fuerte}')\n",
        "  print(f'Postre :{postre}')\n",
        "\n",
        "# argumentos posicionales con tuplas *\n",
        "def comanda_2( *opciones ):\n",
        "  print(opciones)\n",
        "  print(f'De entrada pidio:{ opciones[0]}')\n",
        "  print(f'De plato fuerte:{opciones[1]}')\n",
        "  print(f'Postre :{opciones[2]}')\n",
        "  print('\\nIndicaciones extras:')\n",
        "  for ind in opciones[3::] :\n",
        "    print(f'\\t {ind}')\n",
        "\n",
        "comanda (\"sopa aguada\" , \"tortas de papa\" , \"galleta de limon\")\n",
        "comanda (\"sopa aguada\" , \"tortas de papa\")\n",
        "comanda_2('sopa aguada' , 'tortas de papa' , 'gelatina de limon' , 'las tortas bien doradas' , 'traer dos limones' , \"vaso con agua y hielos\")"
      ],
      "execution_count": null,
      "outputs": [
        {
          "output_type": "stream",
          "text": [
            "De entrada pidio:sopa aguada\n",
            "De plato fuerte:tortas de papa\n",
            "Postre :galleta de limon\n",
            "De entrada pidio:sopa aguada\n",
            "De plato fuerte:tortas de papa\n",
            "Postre :galleta de animalito\n",
            "('sopa aguada', 'tortas de papa', 'gelatina de limon', 'las tortas bien doradas', 'traer dos limones', 'baso con agua y hielos')\n",
            "De entrada pidio:sopa aguada\n",
            "De plato fuerte:tortas de papa\n",
            "Postre :gelatina de limon\n",
            "\n",
            "Indicaciones extras:\n",
            "\t las tortas bien doradas\n",
            "\t traer dos limones\n",
            "\t baso con agua y hielos\n"
          ],
          "name": "stdout"
        }
      ]
    },
    {
      "cell_type": "code",
      "metadata": {
        "id": "ZuTN4L1xACK0",
        "outputId": "1bf409f2-3b02-4ac3-db56-2aef20acf2b8",
        "colab": {
          "base_uri": "https://localhost:8080/",
          "height": 156
        }
      },
      "source": [
        "# argumentos  posicionales con diccionarios **\n",
        "def comanda_3( **opciones ) :\n",
        "  print(opciones )\n",
        "  for op in opciones.items():\n",
        "    print(f\"{op[0]} -> {op[1]}\")\n",
        "comanda_3(primer='sopa aguada' , fuerte='tortas de papa' , postre='gelatina de limon' ,\n",
        "          Extra1='las tortas bien doradas' , Extra2='traer dos limones' , Extra3=\"vaso con agua y hielos\")"
      ],
      "execution_count": null,
      "outputs": [
        {
          "output_type": "stream",
          "text": [
            "{'primer': 'sopa aguada', 'fuerte': 'tortas de papa', 'postre': 'gelatina de limon', 'Extra1': 'las tortas bien doradas', 'Extra2': 'traer dos limones', 'Extra3': 'vaso con agua y hielos'}\n",
            "primer -> sopa aguada\n",
            "fuerte -> tortas de papa\n",
            "postre -> gelatina de limon\n",
            "Extra1 -> las tortas bien doradas\n",
            "Extra2 -> traer dos limones\n",
            "Extra3 -> vaso con agua y hielos\n"
          ],
          "name": "stdout"
        }
      ]
    }
  ]
}