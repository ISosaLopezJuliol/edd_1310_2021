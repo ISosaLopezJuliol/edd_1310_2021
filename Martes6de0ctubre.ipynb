{
  "nbformat": 4,
  "nbformat_minor": 0,
  "metadata": {
    "colab": {
      "name": "Martes6de0ctubre.ipynb",
      "provenance": [],
      "authorship_tag": "ABX9TyOPSGxf7Sgs7s6JokNvjO5p",
      "include_colab_link": true
    },
    "kernelspec": {
      "name": "python3",
      "display_name": "Python 3"
    }
  },
  "cells": [
    {
      "cell_type": "markdown",
      "metadata": {
        "id": "view-in-github",
        "colab_type": "text"
      },
      "source": [
        "<a href=\"https://colab.research.google.com/github/ISosaLopezJuliol/edd_1310_2021/blob/master/Martes6de0ctubre.ipynb\" target=\"_parent\"><img src=\"https://colab.research.google.com/assets/colab-badge.svg\" alt=\"Open In Colab\"/></a>"
      ]
    },
    {
      "cell_type": "code",
      "metadata": {
        "id": "IYMn5nkvrRRD",
        "outputId": "ed815586-7b10-4bfd-e37b-2b5fbe20e0ab",
        "colab": {
          "base_uri": "https://localhost:8080/",
          "height": 340
        }
      },
      "source": [
        "#string continuacion\n",
        "numeros_txt=\"    1, 2, 3, 4    , 5  , 35  , 15  , 12\"\n",
        "print(numeros_txt)\n",
        "numeros_txt = numeros_txt.lstrip().split(',')\n",
        "print(numeros_txt)\n",
        "\n",
        "for j in range(len(numeros_txt)):\n",
        "  numeros_txt[j] = int(numeros_txt[j].strip())\n",
        "print(numeros_txt)\n",
        "\n",
        "\n",
        "#funcion Range()\n",
        "\n",
        "#range(inicio, stop, incremento)\n",
        "print(range(1,10,3))\n",
        "rango = range(1,10,2)\n",
        "\n",
        "for x in rango:\n",
        "  print(x)\n",
        "rango = range(10)\n",
        "for x in rango:\n",
        "  print(x)\n"
      ],
      "execution_count": 6,
      "outputs": [
        {
          "output_type": "stream",
          "text": [
            "    1, 2, 3, 4    , 5  , 35  , 15  , 12\n",
            "['1', ' 2', ' 3', ' 4    ', ' 5  ', ' 35  ', ' 15  ', ' 12']\n",
            "[1, 2, 3, 4, 5, 35, 15, 12]\n",
            "range(1, 10, 3)\n",
            "1\n",
            "3\n",
            "5\n",
            "7\n",
            "9\n",
            "0\n",
            "1\n",
            "2\n",
            "3\n",
            "4\n",
            "5\n",
            "6\n",
            "7\n",
            "8\n",
            "9\n"
          ],
          "name": "stdout"
        }
      ]
    },
    {
      "cell_type": "code",
      "metadata": {
        "id": "w6X89EQKxEhD"
      },
      "source": [
        ""
      ],
      "execution_count": null,
      "outputs": []
    },
    {
      "cell_type": "markdown",
      "metadata": {
        "id": "Pk2KIDd6xE3R"
      },
      "source": [
        "# listas\n",
        "- mutables\n",
        "- se declaran con []\n",
        "- selector [ int ]\n",
        "\n",
        "\n",
        "# tuplas\n",
        "- NO mutables \n",
        "- se declara con ()\n",
        "- selector [ int ]\n",
        "\n",
        "#diccionarios \n",
        "- Mutables\n",
        "- son conjuntos para llave:valor\n",
        "- equivalentes a los objetos JSON de JavaScript\n",
        "\n",
        "# conjuntos\n",
        "-representacion de la teoria de conjuntos"
      ]
    },
    {
      "cell_type": "code",
      "metadata": {
        "id": "6IJFaieUyKlQ",
        "outputId": "c5961325-97b7-4a83-d5e2-d0c165ba0596",
        "colab": {
          "base_uri": "https://localhost:8080/",
          "height": 136
        }
      },
      "source": [
        "#Listas (equivalente a arreglos en otros lenguajes de prog)\n",
        "\n",
        "frutas = [\"Pera\" , \"Manzana\" , \"Fresa\" , \"Kiwi\" , \"Naranja\"]\n",
        "print(frutas)\n",
        "cosas = [\"cuaderno\" , 2 , 3.1416 , True , False , [\"rojo\" , 'Azul']]\n",
        "print(cosas)\n",
        "frutas[2] = \"Fresas\"  #frutas[2] = frutas[2].capitalize()\n",
        "print(frutas)\n",
        "\n",
        "#agregar a listas\n",
        "\n",
        "frutas.append(\"Aguacate\") #agrega al final\n",
        "print(frutas)\n",
        "frutas.insert(2, \"Sandia\") #eliges donde insertar el elemento\n",
        "print(frutas)\n",
        "\n",
        "#concatenar listas\n",
        "\n",
        "fecha = ['06' , '10' , '2020']  # 06/10/2020 para hacer esto ocupas un join\n",
        "print(fecha)\n",
        "fecha_str = \"/\".join(fecha)\n",
        "print(fecha_str)\n",
        "\n",
        "\n",
        "\n"
      ],
      "execution_count": 34,
      "outputs": [
        {
          "output_type": "stream",
          "text": [
            "['Pera', 'Manzana', 'Fresa', 'Kiwi', 'Naranja']\n",
            "['cuaderno', 2, 3.1416, True, False, ['rojo', 'Azul']]\n",
            "['Pera', 'Manzana', 'Fresas', 'Kiwi', 'Naranja']\n",
            "['Pera', 'Manzana', 'Fresas', 'Kiwi', 'Naranja', 'Aguacate']\n",
            "['Pera', 'Manzana', 'Sandia', 'Fresas', 'Kiwi', 'Naranja', 'Aguacate']\n",
            "['06', '10', '2020']\n",
            "06/10/2020\n"
          ],
          "name": "stdout"
        }
      ]
    },
    {
      "cell_type": "code",
      "metadata": {
        "id": "6cgBzVOw3TFS",
        "outputId": "353d0ec2-e2a4-4670-bb6a-4d1ca55ba18e",
        "colab": {
          "base_uri": "https://localhost:8080/",
          "height": 187
        }
      },
      "source": [
        "#eliminar elementos \n",
        "cosas = [\"cuaderno\" , 2 , 3.1416 , True , False , [\"rojo\" , 'Azul']]\n",
        "print(cosas)\n",
        "cosas.append('libro')\n",
        "cosas.append('Lapiz')\n",
        "print(cosas)\n",
        "algo = cosas.pop() # (remueve y regresa)) por eso se ocupa el valor algo para almacenarlo ahí\n",
        "print(cosas)\n",
        "print(algo)\n",
        "algo = cosas.pop(2)\n",
        "print(cosas)\n",
        "print(algo)\n",
        "cosas.remove(2) # solo remueve el valor eleguido\n",
        "print(cosas)\n",
        "\n",
        "#vaciar una lista\n",
        "\n",
        "#cosas.clear() limpia la lista\n",
        "print(cosas)\n",
        "\n",
        "\n",
        "#ordenar\n",
        "print(frutas)\n",
        "frutas.sort()\n",
        "print(frutas)\n",
        "\n",
        "\n"
      ],
      "execution_count": 33,
      "outputs": [
        {
          "output_type": "stream",
          "text": [
            "['cuaderno', 2, 3.1416, True, False, ['rojo', 'Azul']]\n",
            "['cuaderno', 2, 3.1416, True, False, ['rojo', 'Azul'], 'libro', 'Lapiz']\n",
            "['cuaderno', 2, 3.1416, True, False, ['rojo', 'Azul'], 'libro']\n",
            "Lapiz\n",
            "['cuaderno', 2, True, False, ['rojo', 'Azul'], 'libro']\n",
            "3.1416\n",
            "['cuaderno', True, False, ['rojo', 'Azul'], 'libro']\n",
            "['cuaderno', True, False, ['rojo', 'Azul'], 'libro']\n",
            "['Pera', 'Manzana', 'Sandia', 'fresa', 'Kiwi', 'Naranja', 'Aguacate']\n",
            "['Aguacate', 'Kiwi', 'Manzana', 'Naranja', 'Pera', 'Sandia', 'fresa']\n"
          ],
          "name": "stdout"
        }
      ]
    },
    {
      "cell_type": "code",
      "metadata": {
        "id": "LuXl_G4n7Dh0",
        "outputId": "c4055847-51d8-4c8a-a881-48cd9c81fe76",
        "colab": {
          "base_uri": "https://localhost:8080/",
          "height": 136
        }
      },
      "source": [
        "# slicing solo regresa, no modifica\n",
        "\n",
        "cosas = [\"cuaderno\" , 2 , 3.1416 , True , False , [\"rojo\" , 'Azul']]\n",
        "print(cosas[3:5:1])\n",
        "print(cosas)\n",
        "print(cosas[0][3:5:1])\n",
        "\n",
        "numeros = [1,2,3,4,5,6,7,8,9,10,11,12,13,14,15]\n",
        "print(numeros[7:12:1])\n",
        "\n",
        "#sustituir rebanadas -2,-2 \n",
        "\n",
        "numeros[7:12:] = [-2,-2]\n",
        "print(numeros)\n",
        "\n",
        "# preguntar por si existe un valor especifico\n",
        "\n",
        "print(\"cuaderno\" in cosas)\n",
        "print(0 in numeros)"
      ],
      "execution_count": 43,
      "outputs": [
        {
          "output_type": "stream",
          "text": [
            "[True, False]\n",
            "['cuaderno', 2, 3.1416, True, False, ['rojo', 'Azul']]\n",
            "de\n",
            "[8, 9, 10, 11, 12]\n",
            "[1, 2, 3, 4, 5, 6, 7, -2, -2, 13, 14, 15]\n",
            "True\n",
            "False\n"
          ],
          "name": "stdout"
        }
      ]
    },
    {
      "cell_type": "markdown",
      "metadata": {
        "id": "g8cZEBB6-iwk"
      },
      "source": [
        "# listas mulidimencion\n",
        "\n",
        "listas dentro de listas\n",
        "\n"
      ]
    },
    {
      "cell_type": "code",
      "metadata": {
        "id": "1iU2ot4I-rGH",
        "outputId": "6f0f75da-c5da-49c0-dd90-18e2b9745ccf",
        "colab": {
          "base_uri": "https://localhost:8080/",
          "height": 190
        }
      },
      "source": [
        "computadoras = ['HP' , 'Mac Book Pro 17' , 'Mate Book' , \"Lenovo leguion\"]\n",
        "oss = [\"Windows 10\" , \"Linux\" , 'Android' , 'iOS']\n",
        "\n",
        "computo = [computadoras , oss]\n",
        "print(computo[0])\n",
        "print(computo[1])\n",
        "print(computo[0][2])\n",
        "print(computo[0][2][0:5])\n",
        "print(computo[0][3][5: :-1])\n",
        "print(computo[0][3][-9:-12:-1])\n",
        "print(\"Linux\" in computo[1])\n",
        "dbms = [ [\"Mysql\" , \"Open Source\" , False ], [\"Ms SQL Server\" , \"de paga\" , True] ]\n",
        "computo.append(dbms)\n",
        "print(computo)\n",
        "print(computo[2][1][1])\n"
      ],
      "execution_count": 68,
      "outputs": [
        {
          "output_type": "stream",
          "text": [
            "['HP', 'Mac Book Pro 17', 'Mate Book', 'Lenovo leguion']\n",
            "['Windows 10', 'Linux', 'Android', 'iOS']\n",
            "Mate Book\n",
            "Mate \n",
            "ovoneL\n",
            "ovo\n",
            "True\n",
            "[['HP', 'Mac Book Pro 17', 'Mate Book', 'Lenovo leguion'], ['Windows 10', 'Linux', 'Android', 'iOS'], [['Mysql', 'Open Source', False], ['Ms SQL Server', 'de paga', True]]]\n",
            "de paga\n"
          ],
          "name": "stdout"
        }
      ]
    }
  ]
}