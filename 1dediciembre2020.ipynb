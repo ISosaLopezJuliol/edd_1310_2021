{
  "nbformat": 4,
  "nbformat_minor": 0,
  "metadata": {
    "colab": {
      "name": "1dediciembre2020.ipynb",
      "provenance": [],
      "authorship_tag": "ABX9TyMuQubN5kHnvMoEckb4LbVi",
      "include_colab_link": true
    },
    "kernelspec": {
      "name": "python3",
      "display_name": "Python 3"
    }
  },
  "cells": [
    {
      "cell_type": "markdown",
      "metadata": {
        "id": "view-in-github",
        "colab_type": "text"
      },
      "source": [
        "<a href=\"https://colab.research.google.com/github/ISosaLopezJuliol/edd_1310_2021/blob/master/1dediciembre2020.ipynb\" target=\"_parent\"><img src=\"https://colab.research.google.com/assets/colab-badge.svg\" alt=\"Open In Colab\"/></a>"
      ]
    },
    {
      "cell_type": "code",
      "metadata": {
        "id": "lUBwTxgErcPm"
      },
      "source": [
        "class Array2D:\n",
        "\n",
        "    def __init__(self,rows, cols, value):\n",
        "        self.__cols = cols\n",
        "        self.__rows = rows\n",
        "        self.__array=[[value for x in range(self.__cols)] for y in range(self.__rows)]\n",
        "\n",
        "    def to_string(self):\n",
        "        [print(\"---\",end=\"\") for x in range(self.__cols)]\n",
        "        print(\"\")\n",
        "        for ren in self.__array:\n",
        "            print(ren)\n",
        "        [print(\"---\",end=\"\") for x in range(self.__cols)]\n",
        "        print(\"\")\n",
        "\n",
        "    def get_num_rows(self):\n",
        "        return self.__rows\n",
        "\n",
        "    def get_num_cols(self):\n",
        "        return self.__cols\n",
        "\n",
        "    def get_item(self,row,col):\n",
        "        return self.__array[row][col]\n",
        "\n",
        "    def set_item( self , row , col , valor ):\n",
        "        self.__array[row][col]=valor\n",
        "\n",
        "    def clearing(self, valor=0):\n",
        "        for ren in range(self.__rows):\n",
        "            for col in range(self.__cols):\n",
        "                self.__array[ren][col]=valor\n",
        "\n"
      ],
      "execution_count": 1,
      "outputs": []
    },
    {
      "cell_type": "code",
      "metadata": {
        "colab": {
          "base_uri": "https://localhost:8080/"
        },
        "id": "mw5uBoVJs72J",
        "outputId": "07ea3596-3c6f-4566-d4a4-636939f9ee79"
      },
      "source": [
        "class LaberintoADT:\n",
        "    # 0 = pasillo,  1 = pared, S salida y E entrada  \n",
        "    #pasillo es una tupla((2,1),(2,2),(2,3),(2,4),(3,2),(4,2))\n",
        "    def __init__(self , ren, cols, pasillos ):\n",
        "        self.__laberinto = Array2D(ren, cols, '1')\n",
        "        for pasillo in pasillos:\n",
        "            self.__laberinto.set_item(pasillo[0],pasillo[1], '0')\n",
        "\n",
        "    def to_string (self):\n",
        "        self.__laberinto.to_string()\n",
        "\n",
        "pasillos_incial = ((2,1),(2,2),(2,3),(2,4),(3,2),(4,2))\n",
        "lab = LaberintoADT(6,6,pasillos_incial)\n",
        "lab.to_string()"
      ],
      "execution_count": 9,
      "outputs": [
        {
          "output_type": "stream",
          "text": [
            "------------------\n",
            "['1', '1', '1', '1', '1', '1']\n",
            "['1', '1', '1', '1', '1', '1']\n",
            "['1', '0', '0', '0', '0', '1']\n",
            "['1', '1', '0', '1', '1', '1']\n",
            "['1', '1', '0', '1', '1', '1']\n",
            "['1', '1', '1', '1', '1', '1']\n",
            "------------------\n"
          ],
          "name": "stdout"
        }
      ]
    }
  ]
}