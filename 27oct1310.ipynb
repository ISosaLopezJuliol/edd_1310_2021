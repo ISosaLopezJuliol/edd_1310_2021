{
  "nbformat": 4,
  "nbformat_minor": 0,
  "metadata": {
    "colab": {
      "name": "27oct1310.ipynb",
      "provenance": [],
      "authorship_tag": "ABX9TyMRVL89cbiZ4lZ4U1uq2zi8",
      "include_colab_link": true
    },
    "kernelspec": {
      "name": "python3",
      "display_name": "Python 3"
    }
  },
  "cells": [
    {
      "cell_type": "markdown",
      "metadata": {
        "id": "view-in-github",
        "colab_type": "text"
      },
      "source": [
        "<a href=\"https://colab.research.google.com/github/ISosaLopezJuliol/edd_1310_2021/blob/master/27oct1310.ipynb\" target=\"_parent\"><img src=\"https://colab.research.google.com/assets/colab-badge.svg\" alt=\"Open In Colab\"/></a>"
      ]
    },
    {
      "cell_type": "code",
      "metadata": {
        "id": "ImHOoalDCVk2",
        "outputId": "e99bfeb6-881f-45ea-f8b5-f91a28764535",
        "colab": {
          "base_uri": "https://localhost:8080/",
          "height": 50
        }
      },
      "source": [
        "class Computadora:\n",
        "    def __init__( self , m , p):\n",
        "        self.__marca = m\n",
        "        self.__procesador = p\n",
        "\n",
        "    def to_string( self ):\n",
        "        return \"MArca:\"+self.__marca+\" Procesador:\"+self.__procesador\n",
        "    def set_marca( self , m ):\n",
        "      self.__marca = m\n",
        "    def get_marca(self):\n",
        "      return self.__marca\n",
        "    def set_procesador( self, p):\n",
        "      self.__procesador = p\n",
        "    def get_procesador(self):\n",
        "      return self.__procesador\n",
        "\n",
        "mi_pc = Computadora(\"Toshiba\",\"Intel i7\")\n",
        "mi_pc.__marca=\"HP \" \n",
        "mi_pc.set_marca('Hp co.') #intentando cambiar el valor a privado\n",
        "print(mi_pc.get_procesador())\n",
        "print(mi_pc.to_string())"
      ],
      "execution_count": 5,
      "outputs": [
        {
          "output_type": "stream",
          "text": [
            "Intel i7\n",
            "MArca:Hp co. Procesador:Intel i7\n"
          ],
          "name": "stdout"
        }
      ]
    },
    {
      "cell_type": "markdown",
      "metadata": {
        "id": "ia_vCYztEKqK"
      },
      "source": [
        "#encabsulamiento en python 3\n",
        "##tradicional tipo java\n",
        "       setAtributo( val )\n",
        "       tipo getAtributo( )\n",
        "##estilo python 3\n",
        "utilizando decoradores \n",
        "\n",
        "       .@property\n",
        "\n",
        "       .@atributo.setter"
      ]
    },
    {
      "cell_type": "code",
      "metadata": {
        "id": "D3caEHeGIkEY",
        "outputId": "eb2529e2-f2c8-44e6-97a5-951eb1d61446",
        "colab": {
          "base_uri": "https://localhost:8080/",
          "height": 101
        }
      },
      "source": [
        "class Computadora:\n",
        "  def __init__ ( self , m , p):\n",
        "    self.marca = m      # se manda a llamar el decorador @property\n",
        "    self.procesador = p # idem \n",
        "\n",
        "  @property # se declara como atributo privado y se declara como metodo get no lo declara solo se manda a llamar el decorador\n",
        "  def marca ( self ):\n",
        "    return self.__marca\n",
        "  @marca.setter\n",
        "  def marca( self , m ):\n",
        "    print(\"En el setter de marca\")\n",
        "    self.__marca = m \n",
        "  @property\n",
        "  def procesador ( self ):\n",
        "    return self.__procesador\n",
        "  @procesador.setter\n",
        "  def procesador( self , p):\n",
        "    print(\"En el metodo set de procesador \")\n",
        "    self.__procesador = p\n",
        "  def to_string( self ):\n",
        "      return 'marca:' + self.marca + 'procesador:' +self.procesador\n",
        "mi_pc2 = Computadora(\"Mac Book pro\" , \"intel i7\")\n",
        "print(mi_pc2.to_string())\n",
        "mi_pc2.marca = \"DELL\"\n",
        "print(mi_pc2.to_string())"
      ],
      "execution_count": 27,
      "outputs": [
        {
          "output_type": "stream",
          "text": [
            "En el setter de marca\n",
            "En el metodo set de procesador \n",
            "marca:Mac Book proprocesador:intel i7\n",
            "En el setter de marca\n",
            "marca:DELLprocesador:intel i7\n"
          ],
          "name": "stdout"
        }
      ]
    },
    {
      "cell_type": "code",
      "metadata": {
        "id": "_MQLcTZYQin4",
        "outputId": "3a982218-6e2b-41fa-8881-81e124b7842e",
        "colab": {
          "base_uri": "https://localhost:8080/",
          "height": 84
        }
      },
      "source": [
        "# Herencia , pasando la clase base a la declaracion \n",
        "class servidorEmpresarial(Computadora ):\n",
        "  def __init__( self):\n",
        "    print(\"hola servidor\")\n",
        "\n",
        "server = servidorEmpresarial()\n",
        "server.marca = 'sun micro system '\n",
        "server.procesador = \"intel i7\" \n",
        "print(server.to_string())"
      ],
      "execution_count": 29,
      "outputs": [
        {
          "output_type": "stream",
          "text": [
            "hola servidor\n",
            "En el setter de marca\n",
            "En el metodo set de procesador \n",
            "marca:sun micro system procesador:intel i7\n"
          ],
          "name": "stdout"
        }
      ]
    }
  ]
}