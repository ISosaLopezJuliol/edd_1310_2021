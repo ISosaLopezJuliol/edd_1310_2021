{
  "nbformat": 4,
  "nbformat_minor": 0,
  "metadata": {
    "colab": {
      "name": "12deenerodel2021.ipynb",
      "provenance": [],
      "authorship_tag": "ABX9TyO9LTojzT0tvU4uYdiCnssY",
      "include_colab_link": true
    },
    "kernelspec": {
      "name": "python3",
      "display_name": "Python 3"
    }
  },
  "cells": [
    {
      "cell_type": "markdown",
      "metadata": {
        "id": "view-in-github",
        "colab_type": "text"
      },
      "source": [
        "<a href=\"https://colab.research.google.com/github/ISosaLopezJuliol/edd_1310_2021/blob/master/12deenerodel2021.ipynb\" target=\"_parent\"><img src=\"https://colab.research.google.com/assets/colab-badge.svg\" alt=\"Open In Colab\"/></a>"
      ]
    },
    {
      "cell_type": "code",
      "metadata": {
        "colab": {
          "base_uri": "https://localhost:8080/"
        },
        "id": "8UW93dVK2M36",
        "outputId": "f63ba951-0028-4bf1-87dd-ebd2c4a94ad4"
      },
      "source": [
        "def suma_lista_rec(lista):\r\n",
        "    if len(lista) == 1:\r\n",
        "        return lista[0]\r\n",
        "    else:\r\n",
        "        return lista.pop() + suma_lista_rec(lista)\r\n",
        "\r\n",
        "def main():\r\n",
        "    datos = [4,2,3,5]\r\n",
        "    res = suma_lista_rec(datos)\r\n",
        "    print(res)\r\n",
        "main()"
      ],
      "execution_count": 5,
      "outputs": [
        {
          "output_type": "stream",
          "text": [
            "14\n"
          ],
          "name": "stdout"
        }
      ]
    }
  ]
}