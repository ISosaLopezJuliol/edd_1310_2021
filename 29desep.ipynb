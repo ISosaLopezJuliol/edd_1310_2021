{
  "nbformat": 4,
  "nbformat_minor": 0,
  "metadata": {
    "colab": {
      "name": "Untitled0.ipynb",
      "provenance": [],
      "authorship_tag": "ABX9TyM/aB5wVB9s+9DWBhP/KCHw",
      "include_colab_link": true
    },
    "kernelspec": {
      "name": "python3",
      "display_name": "Python 3"
    }
  },
  "cells": [
    {
      "cell_type": "markdown",
      "metadata": {
        "id": "view-in-github",
        "colab_type": "text"
      },
      "source": [
        "<a href=\"https://colab.research.google.com/github/ISosaLopezJuliol/edd_1310_2021/blob/master/29desep.ipynb\" target=\"_parent\"><img src=\"https://colab.research.google.com/assets/colab-badge.svg\" alt=\"Open In Colab\"/></a>"
      ]
    },
    {
      "cell_type": "code",
      "metadata": {
        "id": "4abCCHMjsvZV"
      },
      "source": [
        "edad = 10"
      ],
      "execution_count": 3,
      "outputs": []
    },
    {
      "cell_type": "code",
      "metadata": {
        "id": "Ngu9mz1Jvb6K",
        "outputId": "b46ca5aa-5004-44c3-f30b-01ca83ba095b",
        "colab": {
          "base_uri": "https://localhost:8080/",
          "height": 69
        }
      },
      "source": [
        "print(edad)\n",
        "colores=[\"rojo\",\"azul\",\"verde\",\"morado\",\"violeta\"]\n",
        "print(colores)\n"
      ],
      "execution_count": 7,
      "outputs": [
        {
          "output_type": "stream",
          "text": [
            "10\n",
            "morado\n"
          ],
          "name": "stdout"
        },
        {
          "output_type": "execute_result",
          "data": {
            "application/vnd.google.colaboratory.intrinsic+json": {
              "type": "string"
            },
            "text/plain": [
              "'morado'"
            ]
          },
          "metadata": {
            "tags": []
          },
          "execution_count": 7
        }
      ]
    },
    {
      "cell_type": "code",
      "metadata": {
        "id": "DazCrL-sAE2G",
        "outputId": "92d5dbf4-a1fc-43c3-ccfa-975b555e1b60",
        "colab": {
          "base_uri": "https://localhost:8080/",
          "height": 68
        }
      },
      "source": [
        "#sólo mostrar la \"ra\" de morado ???\n",
        "print(colores[3][2:4])\n",
        "nombre=\"alberto\"\n",
        "print(nombre[0])\n",
        "print(nombre[0:3:1])"
      ],
      "execution_count": 30,
      "outputs": [
        {
          "output_type": "stream",
          "text": [
            "ra\n",
            "a\n",
            "alb\n"
          ],
          "name": "stdout"
        }
      ]
    },
    {
      "cell_type": "markdown",
      "metadata": {
        "id": "QI3VIQE-yN54"
      },
      "source": [
        "# for en python\n",
        "2 variantes\n",
        "1. in range(ini, tope, incremento)\n",
        "2. in [iterador]"
      ]
    },
    {
      "cell_type": "code",
      "metadata": {
        "id": "2T57d76MzHiN",
        "outputId": "c409ea6e-33be-4880-a9d9-e716baf01b88",
        "colab": {
          "base_uri": "https://localhost:8080/",
          "height": 102
        }
      },
      "source": [
        "for j in range(0,5,1):\n",
        "  print(colores[j])"
      ],
      "execution_count": 11,
      "outputs": [
        {
          "output_type": "stream",
          "text": [
            "rojo\n",
            "azul\n",
            "verde\n",
            "morado\n",
            "violeta\n"
          ],
          "name": "stdout"
        }
      ]
    },
    {
      "cell_type": "code",
      "metadata": {
        "id": "5KcIpAVAz1Kj",
        "outputId": "fabb58a2-e6ce-4acf-fc17-e9b1d30fa4de",
        "colab": {
          "base_uri": "https://localhost:8080/",
          "height": 102
        }
      },
      "source": [
        "for color in colores:\n",
        "  print(color)"
      ],
      "execution_count": 13,
      "outputs": [
        {
          "output_type": "stream",
          "text": [
            "rojo\n",
            "azul\n",
            "verde\n",
            "morado\n",
            "violeta\n"
          ],
          "name": "stdout"
        }
      ]
    },
    {
      "cell_type": "code",
      "metadata": {
        "id": "k_YuccSq0hs5",
        "outputId": "d88081e7-cb66-4930-ec7c-5d5462890d45",
        "colab": {
          "base_uri": "https://localhost:8080/",
          "height": 136
        }
      },
      "source": [
        "for j in range(0,len(nombre),1):\n",
        "  print(nombre[j])"
      ],
      "execution_count": 28,
      "outputs": [
        {
          "output_type": "stream",
          "text": [
            "a\n",
            "l\n",
            "b\n",
            "e\n",
            "r\n",
            "t\n",
            "o\n"
          ],
          "name": "stdout"
        }
      ]
    },
    {
      "cell_type": "code",
      "metadata": {
        "id": "JkUshSFd2iHa",
        "outputId": "336d55cd-778f-4559-e1be-83054230b45f",
        "colab": {
          "base_uri": "https://localhost:8080/",
          "height": 136
        }
      },
      "source": [
        "for letra in nombre:\n",
        "  print(letra)"
      ],
      "execution_count": 29,
      "outputs": [
        {
          "output_type": "stream",
          "text": [
            "a\n",
            "l\n",
            "b\n",
            "e\n",
            "r\n",
            "t\n",
            "o\n"
          ],
          "name": "stdout"
        }
      ]
    },
    {
      "cell_type": "markdown",
      "metadata": {
        "id": "ZfzjFXEl3UMJ"
      },
      "source": [
        "mas informacion en : [github](https://github.com/adam-p/markdown-here/wiki/Markdown-Cheatsheet)\n",
        "___\n",
        "![fes](data:image/jpeg;base64,/9j/4AAQSkZJRgABAQAAAQABAAD/2wCEAAkGBxMTEhUTExMWFRUWFxcVFhcYGBgYGBgVGhcXFxYYGBUYHiggGBolHx0XITEhJSkrLi4uFx8zODMtNygtLisBCgoKDg0OGhAQGy0lHyUtLS0tLS0tLS0tLS0tLS0tLS0tLS0tLS0tLS0tLS0tLS0tLS0tLS0tLS0tLS0tLS0tLf/AABEIAKcBLgMBIgACEQEDEQH/xAAcAAACAgMBAQAAAAAAAAAAAAADBAIFAAEGBwj/xABBEAABAwIEAwUFBwMCBAcAAAABAAIRAyEEEjFBBVFhE3GBkaEGIrHB8AcUMkLR4fFDUmIVkiMzcoIXU5OistLi/8QAGgEAAwEBAQEAAAAAAAAAAAAAAAECAwQFBv/EACwRAAICAQMEAQIFBQAAAAAAAAABAhEDEiExBBNBUTIiYRRxkaGxgcHR4fD/2gAMAwEAAhEDEQA/APRyUJzlIoTl6aPPbIOchOcpuKE9WiGDc5SpCVApjCsVN0girYSlTITuGJCMaIIHRBaRJE2XO5WdSjpDvrpHFVGqGKdCQqtLzlbrsqhAUp+BXG1BsqqorWphg10VPNMMa18ZAI6rqU1FHO4anuc+JRRSXSN4aw/it0UsRgqdsuvmk+oRSwtHLOpXQn0lfV8Dm0CVfwt2sgrRZUS8bEaGECZGHRKdMi0ePVOUsKTzHeplMqMSufh5KTxmDcXBo3XRPa1sdUI5QSZE7dOqmOVopwRy9XhzsxASdWiRquwZRkEN8Sl63AXvuVtHqEvkQ8b8HJFqiWq3xnCHsJ3Ve6mumM0+DJpp7ixCiQmSxQLFaYhchahMZFgoE3hOwFYWiEy6ioGmhMdgIWoRi1RLUxWBIWiEUtWi1Mdg1illWQmFmli3C2gVnsRQXI7wgvaeS8FG7QFyC5MZEGo2FaZDQBy02oQVJwQ3BaEjNXiJiAhU8fAulnBCcE1CIPJKwlbGEodDFFpnbdDIUCFelVROt3Zaux7XCMgKj9yLDmLdb22VYx5FwnBxapYE2CzcGviaxyJ/Ia7e1x5qMkiykziUiHUwfrooVcQ1uzB0DnE+qin6NLXshUxhZYtJ63RqeJa65NuWpSVXiIIjLPelfvV5yN8lfbtcE9xLydK0tEAEX0Ej0GiNVptDRcA6/QXKnGOmQA08wtiq51y4k99goeB+y1nXot6nDGvM59N9ExR4EzWSVX4bFQP5VlQx4MCfgolrXDLi4MK6gGaaBI1uJkW0Vwx4Islq/CmuuQs4yV/UaSTa2KDEPLt9VUYvhjxfUc11lThQH1+iCaDR7rtOq6YZkuDCWNvk5CnSZ+ae5MYfh7KmjgANZVhxXh7Rduir6NNw0E7ELpU9StM52tLpjWD4S0zDc19dv3V9R4IHN9+w5QocHxTQIdYhWX36dNNVx5ck2zqxxjRzPEuEszQJ8fkp0+BMIHumQulwlJjznIBO0ifKU66mOSl9RJbFLFF7nAYz2buS23TVJf6E4wILTziQfJeg1cICoBgGy0j1c6JeCJ51jOAVWCYzDmEhTwpJAg3tYb6r1V1OdlW4/hDSQ6II3Gq1h1r4kRLp/R5/VwPW41HJKOprrOIYB0kAk21N/VU7OEVCC4iB1suyGZNbswlBoqsqzKmq1GOvXn3KGVbJmTPYH0nNM5T3qT8bbQHw+t0Hh+LZWzik8P7N+RxH4c2VrrHQ2cEStQ5x4L55U+T0WmlsV73FBeEy9iEWrdM52hZwQ3NTRaolitMihQ01F1JOZFjaMo1AoFc6moCjKt34QbEpcUrprIN46ERg3Hb1ChUwrhqCrrNfSE0H5m5YN9wk8zRawxZyhCjlXVf6fTGjATG5JSeNw4ywKYHUfqqWdMl4GlyUBC1CafR6KDqULa0Y0wOVYGp7DYFztrc7ItTCBtiD6KHkV0WoOrK9riFOnWITraBj8NkJ9DkEtSZWloZwvGC3Vvkj1PaB2w81WnDnkh9mp7cG7H3JrYsDxdztwPBKYiuSdUzwng7q5IBygak9dgNyrjHeywyt7N1wDmzfmO0RpyWbnihKjRRyTjZRMxDYg3W8PSaTayZp+z1Y6gDvP6Sk30HU3FrgQeX6c1acXtFk1JfJDHuja3xU3VSWwNSlXiWmCLIFDEEEbQjRYOdF1g2ljYmD6JwcREQLlUeIxk6nZMezVHtKsF0NaM0f3RaCVlLHs5SNI5N1FHSYfCOe2SYUa3DMvvSrIOAAAEAKDzIhcet2dVIrCQN0i6i+o6GmOZ2Cex/DxlJbMzsfj4Kzo4RjPwtA0V61FWhaWzjKlN1IkPMCdTHp0SdbiLCcoII33XVe0OAp1mHOCC0EtI1XmZprv6ZRyq3yceeTxvYuK76LtWi3T5qlxlQOMNaABpCwsWsi7YQUTjll1Fp9lfFKdM18I4vBJdi2uLQ1hpvykwZkQCw+8BqeS9DpUWvbmFT3YzTFo59y8o+0DDtbiqjGu+7t+7ljahgNsKVMZjq0S2JEzmIAm66t/DweF4imzF1Kj6LXlrrsdTcKLctMtAEgbW3C+fUmuD2nFPc6fBUaWIpGpQq5muzBlRotIlsibEAg9LLgvYKticZjMU6q93Y0TkbYBpqQGEQALS1zufvBUePwtbAGhhGV63aVBS7ZtEuyuc5xiYIhxAMkEF5nZVWK9qcZReRQrxlqghrBIqMqOeWlzQS0wABpmgtvZLuSXLGsUfR7U7h3N7QUrWwxbyPUK5dh80SoMwTQTut1lrlnO8S8IpGsTeFpAqzGBYDMLCw5rAR3fNDy2EcVEGYQEKJ4aE4LKQeFlrZtpQg3AAKYw3RQ4nxihQLG1arWOqHLTBN3u5NG5/Uc06HhLW2GlCv3fmh1cK0p6UNwCakx0imrcLnklanB3bAeKu368kXtNlqsskZvFFlLhqDmC5juCLWcCIyyrYEHZYaLd4U9ze2PRtSOeZgydahA5R+6i/BBuhzei6IU2HQBDfhQdlazMl4kVOHwsiSJRjwkvGgA22KbGHhPsqeCmWR8oaxqqZrAYRtJuVlpMne6YIUGulbJWD3dmqSXBF2qyqAbwJHohuco9ogAOKwFJ7TmYJvcCDJ6hcZjsFkeWzMb+oXbgkmyQxXCA9xcTfZdOHLoe7OfNi1rbk5OlSb+aVd+y2EGd1TZtgOc/XqmqXCRN7RorXD4ZrBbx71pmzpppEYsDTTYcNU8qAa0KdMyuM6zVRqO3TWUs/VTpnaLRr1QwK7jeD7UReJ2sR1XA43DBr3NBkA6nVeovAhcd7ScOLXB+od6H+Au3pMtPSzk6rHcdSOWNNaNNWLMG4iQDHPbzUjhBGsHl/C9HuI83Q2VX2qYinRxgL6Yqmoy4dJAYwtNNuQbFzD/AL3Sk/ZH21bUDsG9pFbE1KbC+S9gZnHujWXBpN+koH2mcXwVbs8Qxz6znBzR7zmFol5a5rYh0yAd4A5o/wBl/sxTxNMYrs3UyzEUjSdnkua1wNQGADMzc7EdZ+duTlsz6GKWndHruPw1PK9+QFwBeCBfM1ha0zzAsF5Fxb2ecKrqraLMJRpNIcaWZ1Z+UtcJeXQTnj3xBlpjYr2PGs93XVzB4F7Z9JVdxDh1Kp2lMkAFjWk2nM5xImdYLQf+481pSfJmm0IewuHxdKmRiMQcRScyk+i54is3M0moypzA92Cb3K6TOla2IY3WowbATcnSA0XJ2gIhpHYhOkJsI6ohvrwCYJgEgDUnkJ3QqzssSQJsL62Jt4AnwQarrEaWjuVJCs4Chxhx4q59XGBlJzSw0BUc/I81GMaM1MuY0ycsy0gkiNCu94pxehhw016raeYw2dSbaAXOoXJ0/Zdja9aP+VUpUWZTezH53Zibvc4gy43uUT2rwnaBoLM4BpNpAuJh0nM8g29xmZ0mSXBukCRQdA5I472u9riMXTe6nTqmhU7RvvPa0ZZawuaS7+4wRB1JFgB63w3GdrRp1S0sL2glh1Y78zSd4Mid4XjPtKMLWx9IdvSbTLjTrMYDAyn3MhaPezWETaw5L1/DYtrmBzPwnS0eh0PRTCLtlSapDnarC9LdotCqtNJGoba8IjavRK0nt3UyeRUtDTGWuGqk9wIhLSiCdrKaGaFLcFGlAjqszhABrKOdQK02EUBP71CYzSJSmQE3Pej/AHhosAkxmntSz2Hb1TPbbqXbAgzCdsQtgXgzOvJOloSdOiwGQ490pltRDGjKjOSSq4rLrKd7QKvrMLiYjxTgvZMn6NDEh2yZw1eBCTpU3ZhIi6ZJhxVSS8Ci2+RlokLKYKlReFPNdZlm8trqmxdPM+DoNvCFch6XxABVRdMTVlWML/w3MywDMeSdwOApNptlrSYEkgEzvrsj0XaBMNYCIhOU3wSoLk+Q8bUptqtNIuqMbkdFRsAmGlzSAbtmRtbzXd8C9q34KnTyBre0gZHFwAa1s9rGmrjFzYQdl5qjuxJOVpe4tbZoJkAdAdAuLU1wdzgnsz1L2p+0MYtpFLOxpH4XEES2IgsvDrtId0K5PF8cxFVwOcsiIDHOaS9os9wB/GdVzz6j5bEkwDA0AEwIG26ylRqSPdfmJt7pgzqdv0Uycn5J7aRdYj2lxLatGv2pc5g90m8OgiYNs3eOSs2/aFjn2Nd0A5h72WLWkj8VxNwVy33ckkuO+W4sCdhFgb6IVR7BMOmRG1okCTvsVPirFpiXmN9pK2IE4irUI7QlgDzIdlAmOUWtzK6HhPtHjcNSIbULh7pEtLrAARJ6ZZuddlwGFrQSBBnrHUX70zUxDxlc5pykQ0neDBIvYqWpJ/SweNPY9k9kPbmlX/59VjajsrYAcBIAuZ0BknXY6b9Zj8XQYGZ61MCo8NYSQQ4hwzCdNivmgVMrg8OkzMH5q6wPEzULQ4tygS4OMiBeYJv+q6V1M4r2YywLk7vjnsdhqj3v7em5jTmeQ6+apVhwyt3bTbYD8xC7b2f4zQr0Q6nWb7gIcD7pBaBnJB23nS68odx2i6i2mAYOgYRnzZpJc8yAfDdL8QqU20mGkILaZGWpLSW5i4tbBuL73M76iI9Y0/iEsba3PS3+3WGDnNGd2VxaHNAc10aEOB0N0vxj237KgKjKRNSxdTdaGkHRw1P7rzftw8NFXKw5cwpt0hpkASfxW9bQhUcXVqz2NIlrrENa1hAuQA8xmOs8pQ+qyvZUT2Nzs6H2qXbNFrg4Auax/vNnq4BpOlrd66nE+3eFp0mVC5zs4lrWtJNiQQZgAgiImV4nxqpVDcjzDWuyZHAZ8wEE6TlttuUPh2NAim5zgyZgEkDewdYE8+iceomo+y3hVWj2nB/aRhXuyuFSmD+ZwEC8XDXE+MLq+H8VZVYH0ntqMP5muDhI1EjdfPtWiH1cuduXUuzQW2BBh0A6bAi6b4P7TvwVRr6D3OpZ5q03OzNc2bAy0DMBuL6XgQjH1LupbkvH6PoB1dYKgXKYT7QMPWptcabmk/lBY63MQ4eUT0TTPa3CABznlskgSx0SCRsDGmhvoumObG/Jm00zosxW5PJU+G9q8IXZW4imHaZXHKZHR0Kx/wBQY4TmB65gqTT4GHDwsNZvJCFWdLqLasaqqCxkPadCpGOYVcTr7oIPX16JV8jc+aNIWWjqo6ILsZH5YVW+pHPzWhjLQQrUCXIs2Y5FGMlUQDjcR5pzDUidXQhxQKTLI4pLHGhplEZQbu/0CUxGDJ/C7u3SSQ3YT/VIPRMV+IlsQZB3VI7A1Nbeg+KA7Cvm4jxCvRFk6mXw4t0KI3Gz0SfD3Cm0ggmdeSZPENB2ZjqBHqoa9IqybsXKebiCQIOyQNfMJFP4fqkqjySYzjpMI02FmD2SwbbNwtGDa7A7uO3nqm2cIo0wS2mwdA2LnX8N4T332mRbNfm1zT5OAKNTqNOjfguajotiFPhjBcNF9enKBsEdmE6bc7/GJ8N1T4rgz3SKmNxZBJ91ho0QBOmalSDoH/UrdtSI3gRJcZMWkxAnwSHZsYNsg5Ondpr73TVEfg2kQWg9Nv4UPvbv7R8VHtXjQNHggVgqvs/hnmX4ei4zMupsJnWZhKV/ZTAOIzYPDk6XYz0snhWf/ePIKD6jv/MKVBf3K9nsVw9oJ+6UGjWS0RA79u9M0fZnCRbDUADoGMAHfIAmRGyZpVf8ifH91jnynpE5/cg/2ewsEHDUYOo7NkHW5EapM+xvDpk4PDz/ANDRfn32RnQPyj1R2utshRsTyL2DqcHwRGV1HDkciymfQhJ4n2e4Y6A6hRGUFrcgyQCCCAacETJ05qwMch6KFRyfbJ7yRRv9kOEGM1AOjSTVPwPUpev7A8HeZ+7OB/wOIaPjC6HxUmlCxC/EHL/+G3Cj/Rrf+rUHhdyjU+zHhrohldtogVbRyMyurDlLMn2kT+IZy9L7NeHNaWDt8pIJb2pgkaEwNUYfZ/w4R7lUkEmTWfqYkxMctl0JK0U+zD0Q+okc9xL2MoVWlprYgNcCHDNTd4jNTsR0SGG+zjCsEGrXfpGY05HiGCV2DViX4fGvAu/M4ur9njJmnXc283ZPwcFt3sNWDg9uLcHC2YB4MWtIqdF2rSiEo7MPQLLJ+TkBwTGBzCcSCGmXCI7S0Q4kG2mie7Ct/h4F36K8JvsoPC3g9OxnKTZRHtuTP9xHxCiX1x+Rn+7/APKumsCg+iLrTURrkU33msP6Y8/2UqfE6g/pHzH6qzdR6/ohdiU7TF3WvAJnF3b0nf8As/8AssPEnf2OHl+qM2n0WxTHJLb0WsqYhUx5Ooqf7HH4IP8AqA3z+LH/ADCthTA2W8mv18U9S9Fak/JUni7d3x4EfJGp8Ypn+ow+KsHAQq3E0gd2qk0/AOSXkbHEWkWe3wKM3ET+afH9FSHAt/tafBE+4U/7AO4gJ6UTr+501RzRzU6VcbBJvd5axIupUnunl52B2krho6XlG6tXuQzVP1ZRd9T9WQmO8vrRPSS8gwXn6P6LC70Q6ZkxH11WmW5J0TrNl4n6+awO31WqlS4mB9eik4REHwt890US5kTreZ8/gidY+KgR6fXmtAjrPxTonWDNTomGERyQHuvcR5BTa6dj01+aKJ1BHHotF37/AMLTnRH6obimJskD/CwO0+u7dBzj+6w6yFJl9wb2ibdJQTYTN+mvyRRbWfKUBtQxc7xz35SthwAJMnwMckwugkD6/Vbcdh8UKSbibdQoum1tP8o+CYtQVgM3Pdb91t9TkR+6E2rJjLA0kn5hSbUi4BPONvRAKSrYMw9L7qRJQg4NE6TtvPgFqnXB6d5g+t0i9VcsmVBzrfXxQ2lpNhPUX75/darkgx7197W80yHPayT7GDHitOY7n8p9VE04Mkjlcfotm35QSdYFjvc6pk37BuaJkdRcujyWgY1KXOLF7ln+JgDqdJhHFUGQCPKe6bhXTRkskXwElYe5aA2ka7LJmx+O6k1TJQsMDrHSfQLQeQY/lbA2iZ2IlBRFxaW6HyI66EeN0hXYJ2JNplWT2A9I5Et+d0jjMMHSCXEa8tOTtY8VcGrMc2rTsLin8e7u2R2NjWZ8uajQZlAAnbU6ja8FaNYkA6a6CfODErSrMY5HFK+SyqPi+3OCtsOhEEeEDpZYTOszob2QanIC2nf3yLLlo73INVdPKdrz/Hit0biDE+kd6hSOxgE/QUi3W8DeTdILJOqXtBvptHQqBeT+iFAGhmIn9Fjnxpp3+eidEuQYTtruLfNTcBvtcwJ/lApPLiBAHf8AFTr0TMh5vsCduiAu1ZjBJJ0nSbehWNMm7vER81ptRpAFwd5G/WVgdB0gj5byECujdWkBFzzvHrC3nvfXv/lDrvgkxmPosYMwgiJJILTB9LnuSoL3CVKrtLETy+a02mcuo7tfLMUJ9EtAvPcASOl4W8VVkCAXTsQRfmSf4TJcubC0xqS2BpNpPVZIIiQRtp89fRBZhzBMtcWtvcRNt9/AbKOExBynKRINzYADSxO6KFrS2YVpEe7M9ZjvBI+a1UqzF5MC38KbSCJJGW87i23fzMeKCHMOhFrbDXuhAOW3KC9kQAYF4BE6d3VSNaBtI6/tPqhksIMOv1II+tdUOqyZNs0GMoBB6STNvFMTk1wMtY5wtpJ3PfcqbCbSLcxr5WSga83M2EGOnkfjKzBUzJJcelnSPLTyIRQlkdrZjhBOoudNBbotl0DU/XUykTicpJk35tA01318FIYpuUGxBmYiR3ybIpld6AzTaBJADZ3sPUXQK5cLhw1Orb+BEA95lBdi26EgC8cudhqFCrjmTEPkbEW687eKpRZnPPir5UNDMRsDsbR6JYVnFsnLJOrXTI3EG3koHGWgHyF45CVIYghuj5H+PXSd00mR3ovhh8piCBPeT5cvBRc/NqGmBGm3il6lVtiXOE+mxmwTDKbYygNjWRJ687FHAKSk9jbI0AvvEbbcoUi+TGh3ErHRP4dd5iD5LReD4fW+yRqtkRr5x+FzWjQ5gT6zYoVHtRGdzSNS5pMxN7EQUR76b5bY6WMOE+Kg4NH5gLcz6TsqXowkvq1J7fn/AGDNePxdoHAbkDyBmIVbUe5pzNNM3JLsxAjlqQjV8SB+PK6NCBPoTr3JOrixqaTunuiY5xqtIRZhnzKquv1/2FZiKpuwUiRrD8wHpbziyZqPqEXaB1a6fApKni2mCadQDpYE84Cynk07aqOhBbHoFVfYyjm2+V/1S/lFw5pg/wDy+XVQZXcDGp2MbLGOPntJJ9VIFpdYRpM6LlPXsk+iYBNjHn5rAbaefqo4mqToSOtxpyOyFWuZ28Z70A3XAS07T0g/FGq0src143A+cfFBc0AAgkjuv+6EcW50Bs2Ojp+CKJ1JchziNhfpoQeXet0cRnGWDtqNOYRWMaCXNaCSLmxAcf7QkabnNN3Tflv8kbMG2nuOvoQduglL1hfnPWfARoifeiYEEjTmVrEsBEtJ7rfqkgbVbGMINzcjex+Ki90aO/FpyjuB9beiCyhImSR0j1OqjQa0Okju97UdRoEUTqY3QkiDB1i2+xtrugYmgcoMg/3EkQ3pAPpATVXFNiGCXcpGnfchRwB/EHOgERMjvt+6PuU6exPCuZlIN7SRoD+pWBtJzZYyNmu0nwBv5JJ2GcHGCXg6EnlEfhdH1oo4vFlroDS2AJ3v3ndFXwQ8iS+pDNIDKQ65FoiIPMXhbY0gkg526ZQSXXtcAbKtq458gZDHWw9Am24mm1pcCGvkc/Qp0yVOL48EK1TI85pgyMhAMcukj6KA0kOvBBbIgZZ6cwnX4ymWh73GZhtpmNZkGNQk6+Mp1H5gxw2lp16wQYVL8jGaXKYxh32BLjOkWiPJE+9EGfdAAkm8xN7KbcK0w7/iMtMm/lYeaDisG4uGRwDubiB8AErTZpWSMdgtHiIIm2sXMx4fNY6rSJJc1riBqJIN4sG3PgEq7h9SMpe2Dc66+IW6mBcwhzjA5i51tYW9T3J1EhzzNbr9jBVpPBsLTaSLa6GCisp03thwADRM3t0iUpVwg/JYGxnUnW4bqiU25LBuZrrOs4HXzGh81W3gy+q/qiv0JdnTMNaG9LAfEiUHE5mflgfhmGgdIJUTTfSdmbOUc226C9j5rKeLPXSIHLw3VIhyXDVP7E6WMlpBNxEAAneDESTA6KFHEVCfdY53WCPGw+K3QxDi+IJHqQmTVd2pEDIO4num09yBxd19T9cGUS8RmYADzMR53RXtaReT+vhqihzYE6m4vt3KDMQLi3MX38LrPk6k1FU3Zv7s3+1rvj5i6TOAZs0dcxPxmUB3Fmh0EEcwFKpxZogimXToHEC+l1aUzCeXpny1/wB/Qx1Mtk5KY5GJ8jdKY6o62arE3H0Bohff6gMGGgahvvDSwmUm/wB503c4nc2hbwi+WcGfqIJNRv8Aj+AgLXG9eD/3R4mEzSpR/XHmHD1VdUwdQE2Fr6iCOhRKhLtGunkOXeNQtKOVz071+7/ydJTZEX3KZLZEC+hnvWLFwM+mBOpuBgx+6w1BYXusWIFwGLYGpsfVYRN3X6LFikbCGrDSNBy+SVyCo2dNdFpYgTdugDmlpEafWyZovDwdrXWLE2SvlRKm7K2BEm5Pf0WqUATEzdbWJDBHCh0k33gWEbKdNlgJiNNxfSyxYixUhqn7rS03Jja0co3VfxR7hlLWjLpOk9In9lixEeQy7RZI1qJpgEDOZiztdNzHik8LgnPeADrpMaLFivizD5yimWNau3KaWr2EEWgHmAl+HvLcxMNaJB18oHgsWKVwW/mvtZDD1HFwcSA2dOe8fypta9z5DiZjXf8AZYsVGcd6QfGY5zQTsIA6wFnDMY97ptlaJI0EaT1PgsWIpabKWSTyqNh3YjtJAbA0F4n9D4pF2Ib+Rtj1dr4rSxCW9DyydJm6tdrabi5suNoMnukz37rWFxzMvvU26d2trWJmVpYrS2MJTakvyJ1mZsmQCYvsdRedEtXrhskMIJ3JnYg76rFiI+hZV5EsTWqiCQI2PTS+6XDi46mNZ6rFi2jwedNbjTST7z4dpBgTI71Gthw86dLRc6SZ5raxCE0hLD8Ne+cvPmBbfdMvikNy6BcGwv68vBYsVXvRGhdvV5F8O12YERY6Gfen0R6mPvLWho2A+cLFipbsxUnFbH//2Q==)"
      ]
    }
  ]
}