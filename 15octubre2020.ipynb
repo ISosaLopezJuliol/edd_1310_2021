{
  "nbformat": 4,
  "nbformat_minor": 0,
  "metadata": {
    "colab": {
      "name": "15octubre2020.ipynb",
      "provenance": [],
      "authorship_tag": "ABX9TyNH0K2+ccvzwsDw3bzedHDE",
      "include_colab_link": true
    },
    "kernelspec": {
      "name": "python3",
      "display_name": "Python 3"
    }
  },
  "cells": [
    {
      "cell_type": "markdown",
      "metadata": {
        "id": "view-in-github",
        "colab_type": "text"
      },
      "source": [
        "<a href=\"https://colab.research.google.com/github/ISosaLopezJuliol/edd_1310_2021/blob/master/15octubre2020.ipynb\" target=\"_parent\"><img src=\"https://colab.research.google.com/assets/colab-badge.svg\" alt=\"Open In Colab\"/></a>"
      ]
    },
    {
      "cell_type": "markdown",
      "metadata": {
        "id": "UIY4H0ZvmoBz"
      },
      "source": [
        "\n",
        "# Modulos \n",
        "Son recursos reutilizables que contienen \n",
        "varias funciones que pueden ser importadas a tu codigo."
      ]
    },
    {
      "cell_type": "code",
      "metadata": {
        "id": "h9tZ6XQfrdpG",
        "cellView": "both",
        "outputId": "4ea30618-651d-4a73-9d11-1f8cfe86eadd",
        "colab": {
          "base_uri": "https://localhost:8080/",
          "height": 52
        }
      },
      "source": [
        "\n",
        "\"\"\"\n",
        "\n",
        "import mi_modulo\n",
        "\n",
        "x =  mi_modulo.sumar(4,7)\n",
        "\n",
        "print(x)\n",
        "\n",
        "print( mi_modulo.multiplicar(3,5))\n",
        "\"\"\"\n"
      ],
      "execution_count": 15,
      "outputs": [
        {
          "output_type": "execute_result",
          "data": {
            "application/vnd.google.colaboratory.intrinsic+json": {
              "type": "string"
            },
            "text/plain": [
              "'\\n\\nimport mi_modulo\\n\\nx =  mi_modulo.sumar(4,7)\\n\\nprint(x)\\n\\nprint( mi_modulo.multiplicar(3,5))\\n'"
            ]
          },
          "metadata": {
            "tags": []
          },
          "execution_count": 15
        }
      ]
    },
    {
      "cell_type": "code",
      "metadata": {
        "id": "2-ObXGFgsH0-",
        "cellView": "both",
        "outputId": "f90a4f98-a367-4516-be78-14e0031f8cba",
        "colab": {
          "base_uri": "https://localhost:8080/",
          "height": 50
        }
      },
      "source": [
        "\n",
        "from mi_modulo import sumar, dividir\n",
        "\n",
        "print(sumar(4,7))\n",
        "print(dividir(14, 7))"
      ],
      "execution_count": 16,
      "outputs": [
        {
          "output_type": "stream",
          "text": [
            "11\n",
            "2.0\n"
          ],
          "name": "stdout"
        }
      ]
    },
    {
      "cell_type": "code",
      "metadata": {
        "id": "EOv3-BO8tEJQ",
        "cellView": "both",
        "outputId": "2469131c-7a88-40d3-ddb0-281c88960ca4",
        "colab": {
          "base_uri": "https://localhost:8080/",
          "height": 34
        }
      },
      "source": [
        "\n",
        "import mi_modulo as patito #dar alias\n",
        "\n",
        "print(patito.sumar(4,6))"
      ],
      "execution_count": 17,
      "outputs": [
        {
          "output_type": "stream",
          "text": [
            "10\n"
          ],
          "name": "stdout"
        }
      ]
    },
    {
      "cell_type": "code",
      "metadata": {
        "id": "7Pz_gdR_v1QQ",
        "cellView": "both",
        "outputId": "3d70754f-fc15-43ad-f2f7-0e6a7927848f",
        "colab": {
          "base_uri": "https://localhost:8080/",
          "height": 138
        }
      },
      "source": [
        "\n",
        "pip install joke-generator\n"
      ],
      "execution_count": 18,
      "outputs": [
        {
          "output_type": "stream",
          "text": [
            "Requirement already satisfied: joke-generator in /usr/local/lib/python3.6/dist-packages (1.0.1)\n",
            "Requirement already satisfied: requests>=2.22.0 in /usr/local/lib/python3.6/dist-packages (from joke-generator) (2.23.0)\n",
            "Requirement already satisfied: idna<3,>=2.5 in /usr/local/lib/python3.6/dist-packages (from requests>=2.22.0->joke-generator) (2.10)\n",
            "Requirement already satisfied: urllib3!=1.25.0,!=1.25.1,<1.26,>=1.21.1 in /usr/local/lib/python3.6/dist-packages (from requests>=2.22.0->joke-generator) (1.24.3)\n",
            "Requirement already satisfied: certifi>=2017.4.17 in /usr/local/lib/python3.6/dist-packages (from requests>=2.22.0->joke-generator) (2020.6.20)\n",
            "Requirement already satisfied: chardet<4,>=3.0.2 in /usr/local/lib/python3.6/dist-packages (from requests>=2.22.0->joke-generator) (3.0.4)\n"
          ],
          "name": "stdout"
        }
      ]
    },
    {
      "cell_type": "code",
      "metadata": {
        "id": "TBtD-7nzxke7",
        "outputId": "26522e09-3add-4d51-9697-79f8cda9efe9",
        "colab": {
          "base_uri": "https://localhost:8080/",
          "height": 35
        }
      },
      "source": [
        "from joke_generator import generate\n",
        "\n",
        "generate()"
      ],
      "execution_count": 19,
      "outputs": [
        {
          "output_type": "execute_result",
          "data": {
            "application/vnd.google.colaboratory.intrinsic+json": {
              "type": "string"
            },
            "text/plain": [
              "'Without geometry life is pointless.'"
            ]
          },
          "metadata": {
            "tags": []
          },
          "execution_count": 19
        }
      ]
    },
    {
      "cell_type": "markdown",
      "metadata": {
        "id": "Mxw4zoDp0GUM"
      },
      "source": [
        "# archivos\n",
        "- open (string , string)\n",
        "       1. Nombre o ruta del archivo\n",
        "       2. dos caracteres\n",
        "            - modo de apertura del archivo (r , w, a append si y solo si el archivo existe, x append si y solo si el archivo no existe)\n",
        "            - Formato del archivo (t o b)"
      ]
    },
    {
      "cell_type": "code",
      "metadata": {
        "id": "BL9EGxS00z32"
      },
      "source": [
        "archivo = open(\"saludo.txt\" , \"wt\")\n",
        "archivo.write(\"Hola mundo \\n ola ke aze\")\n",
        "archivo.close() "
      ],
      "execution_count": 21,
      "outputs": []
    },
    {
      "cell_type": "code",
      "metadata": {
        "id": "LzSyyWU72nFl",
        "outputId": "e3057979-066b-4c47-951b-3d061a042dbc",
        "colab": {
          "base_uri": "https://localhost:8080/",
          "height": 134
        }
      },
      "source": [
        "otro = open('./sample_data/anscombe.json' , 'rt')\n",
        "datos = otro.read()\n",
        "#print(datos)\n",
        "otro.close()\n",
        "arch = open(\"frutas.txt\" , 'rt')\n",
        "data = \"ppp\"\n",
        "while (data != ''):\n",
        "  data = arch.readline()\n",
        "  print(data)\n",
        "arch.close\n",
        "arch = open('frutas.txt','rt')\n",
        "list_frutas = arch.readlines()\n",
        "print(list_frutas)\n",
        "arch.close()\n"
      ],
      "execution_count": 34,
      "outputs": [
        {
          "output_type": "stream",
          "text": [
            "manzana, pera, kiwi, aguacate\n",
            "\n",
            "limon, naranja\n",
            "\n",
            "sandia, papaya\n",
            "\n",
            "['manzana, pera, kiwi, aguacate\\n', 'limon, naranja\\n', 'sandia, papaya']\n"
          ],
          "name": "stdout"
        }
      ]
    }
  ]
}