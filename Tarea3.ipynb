{
  "nbformat": 4,
  "nbformat_minor": 0,
  "metadata": {
    "colab": {
      "name": "Tarea3.ipynb",
      "provenance": [],
      "authorship_tag": "ABX9TyO7bycKWl6qRlUSSHEEHzkt",
      "include_colab_link": true
    },
    "kernelspec": {
      "name": "python3",
      "display_name": "Python 3"
    }
  },
  "cells": [
    {
      "cell_type": "markdown",
      "metadata": {
        "id": "view-in-github",
        "colab_type": "text"
      },
      "source": [
        "<a href=\"https://colab.research.google.com/github/ISosaLopezJuliol/edd_1310_2021/blob/master/Tarea3.ipynb\" target=\"_parent\"><img src=\"https://colab.research.google.com/assets/colab-badge.svg\" alt=\"Open In Colab\"/></a>"
      ]
    },
    {
      "cell_type": "code",
      "metadata": {
        "id": "tjuVjNMhYde1",
        "outputId": "62e36a20-c30c-42ac-d92a-c83f0ca488b2",
        "colab": {
          "base_uri": "https://localhost:8080/",
          "height": 67
        }
      },
      "source": [
        "class persona: \n",
        "  def __init__ (self, no , e , es , do , co ):\n",
        "    self.__nombre=no      \n",
        "    self.__edad=e\n",
        "    self.__estatura=es      \n",
        "    self.__dormir=do\n",
        "    self.__comer=co  \n",
        "\n",
        "  def dormir(self):\n",
        "      return self.__dormir\n",
        "  \n",
        "  def comer(self):\n",
        "       return self.__comer \n",
        "  \n",
        "  def to_string(self):\n",
        "    return \"Su nombre es:\"+self.__nombre+' tiene:'+self.__edad +\" años\"+\" Su estatura es de: \"+self.__estatura\n",
        "pe = persona( ' Julio' , '20' , '1.70' , 'duerme cuando quiere' , 'come cuando quiere')  \n",
        "\n",
        "print(pe.to_string())\n",
        "print(pe.dormir())\n",
        "print(pe.comer())"
      ],
      "execution_count": 14,
      "outputs": [
        {
          "output_type": "stream",
          "text": [
            "Su nombre es: Julio tiene:20 años Su estatura es de: 1.70\n",
            "duerme cuando quiere\n",
            "come cuando quiere\n"
          ],
          "name": "stdout"
        }
      ]
    },
    {
      "cell_type": "code",
      "metadata": {
        "id": "vzwk9wiugFLj",
        "outputId": "2d493462-ee91-4973-8a11-f699f6205828",
        "colab": {
          "base_uri": "https://localhost:8080/",
          "height": 67
        }
      },
      "source": [
        "class celular: \n",
        "  def __init__ (self, m , mo , esp , al , lla):\n",
        "    self.__marca=m     \n",
        "    self.__modelo=mo\n",
        "    self.__Espacio_de_memoria=esp    \n",
        "    self.__alarma=al\n",
        "    self.__llamar=lla \n",
        "\n",
        "  def alarma(self):\n",
        "    return self.__alarma\n",
        "\n",
        "  def llamar(self):\n",
        "    return self.__llamar    \n",
        "  def to_string(self):\n",
        "    return \"Marca:\"+self.__marca+' modelo:'+self.__modelo+' espacio de memoria'+self.__Espacio_de_memoria\n",
        "mi_cel = celular( 'Huawei' , \"Nova 5T\" , \"128 GB\" , \"La alarma sonara a las 9:00\" , \"El telefono no tiene pagos vencidos puede llamar\")\n",
        "\n",
        "\n",
        "print(mi_cel.to_string())\n",
        "print(mi_cel.alarma())\n",
        "print(mi_cel.llamar())"
      ],
      "execution_count": 20,
      "outputs": [
        {
          "output_type": "stream",
          "text": [
            "Marca:Huawei modelo:Nova 5T espacio de memoria128 GB\n",
            "La alarma sonara a las 9:00\n",
            "El telefono no tiene pagos vencidos puede llamar\n"
          ],
          "name": "stdout"
        }
      ]
    }
  ]
}