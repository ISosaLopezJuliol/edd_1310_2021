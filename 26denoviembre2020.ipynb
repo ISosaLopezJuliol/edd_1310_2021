{
  "nbformat": 4,
  "nbformat_minor": 0,
  "metadata": {
    "colab": {
      "name": "Untitled8.ipynb",
      "provenance": [],
      "authorship_tag": "ABX9TyNonNUJBB6Uh8bu8aSMeVgX",
      "include_colab_link": true
    },
    "kernelspec": {
      "name": "python3",
      "display_name": "Python 3"
    }
  },
  "cells": [
    {
      "cell_type": "markdown",
      "metadata": {
        "id": "view-in-github",
        "colab_type": "text"
      },
      "source": [
        "<a href=\"https://colab.research.google.com/github/ISosaLopezJuliol/edd_1310_2021/blob/master/26denoviembre2020.ipynb\" target=\"_parent\"><img src=\"https://colab.research.google.com/assets/colab-badge.svg\" alt=\"Open In Colab\"/></a>"
      ]
    },
    {
      "cell_type": "code",
      "metadata": {
        "id": "vqaI6ILQ01pP"
      },
      "source": [
        "class Stack:\n",
        "    def __init__(self):\n",
        "        self.__data = list()\n",
        "\n",
        "\n",
        "    def is_empty(self):\n",
        "        return len(self.__data) == 0 \n",
        "\n",
        "    def length(self):\n",
        "        return len(self.__data)\n",
        "\n",
        "\n",
        "    def pop(self):\n",
        "        if self.is_empty():\n",
        "            print(\"pila vacia\")\n",
        "        else:\n",
        "            return self.__data.pop()    \n",
        "\n",
        "    def push (self, value):\n",
        "        self.__data.append(value)\n",
        "\n",
        "    def peek (self):\n",
        "        return self._data[len(self._data)-1]\n",
        "\n",
        "    def to_string(self):\n",
        "        print(\"-----\")\n",
        "        for item in self.__data[::-1]:\n",
        "            print(f\"|{item} |\")\n",
        "            print(\"-----\")\n"
      ],
      "execution_count": 5,
      "outputs": []
    },
    {
      "cell_type": "code",
      "metadata": {
        "colab": {
          "base_uri": "https://localhost:8080/"
        },
        "id": "LTEPoIpg5QX6",
        "outputId": "8e7ed314-81aa-4abe-c869-2eef96e44f40"
      },
      "source": [
        "\n",
        "\n",
        "pila=Stack()\n",
        "pila.push(\"a\")\n",
        "pila.push(\"x\")\n",
        "pila.to_string()\n",
        "pila.push(\"b\")\n",
        "pila.push(\"y\")\n",
        "pila.to_string()\n",
        "var = pila.pop()\n",
        "pila.to_string()\n",
        "print(f\"var = {var}\")"
      ],
      "execution_count": 7,
      "outputs": [
        {
          "output_type": "stream",
          "text": [
            "-----\n",
            "|x |\n",
            "-----\n",
            "|a |\n",
            "-----\n",
            "-----\n",
            "|y |\n",
            "-----\n",
            "|b |\n",
            "-----\n",
            "|x |\n",
            "-----\n",
            "|a |\n",
            "-----\n",
            "-----\n",
            "|b |\n",
            "-----\n",
            "|x |\n",
            "-----\n",
            "|a |\n",
            "-----\n",
            "var = y\n"
          ],
          "name": "stdout"
        }
      ]
    }
  ]
}