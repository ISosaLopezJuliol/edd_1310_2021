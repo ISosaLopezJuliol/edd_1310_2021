{
  "nbformat": 4,
  "nbformat_minor": 0,
  "metadata": {
    "colab": {
      "name": "19deenerodel2021.ipynb",
      "provenance": [],
      "authorship_tag": "ABX9TyOyVzCq7k7/JObT42mD6Lrg",
      "include_colab_link": true
    },
    "kernelspec": {
      "name": "python3",
      "display_name": "Python 3"
    }
  },
  "cells": [
    {
      "cell_type": "markdown",
      "metadata": {
        "id": "view-in-github",
        "colab_type": "text"
      },
      "source": [
        "<a href=\"https://colab.research.google.com/github/ISosaLopezJuliol/edd_1310_2021/blob/master/19deenerodel2021.ipynb\" target=\"_parent\"><img src=\"https://colab.research.google.com/assets/colab-badge.svg\" alt=\"Open In Colab\"/></a>"
      ]
    },
    {
      "cell_type": "code",
      "metadata": {
        "id": "seXv5aAQyaJC"
      },
      "source": [
        "class NodoArbol:\r\n",
        "    def __init__ (self, value , left=None , right=None):\r\n",
        "        self.data = value\r\n",
        "        self.left = left\r\n",
        "        self.right = right\r\n",
        "\r\n",
        "class BinarySearchTree:\r\n",
        "    def __init__(self):\r\n",
        "        self.__root = None\r\n",
        "\r\n",
        "    def insert(self, value ):\r\n",
        "        # Regla 1\r\n",
        "        if self.__root == None:       #self.__root is None\r\n",
        "            self.__root = NodoArbol(value)\r\n",
        "        # Regla 2 \r\n",
        "        else:\r\n",
        "            self.__insert__(self.__root,value)\r\n",
        "\r\n",
        "    def __insert__(self,nodo,value):\r\n",
        "        if nodo.data == value:\r\n",
        "            print(\"el dato ya existe, no se ingresa nada\")\r\n",
        "        elif value < nodo.data:\r\n",
        "            #regla 1\r\n",
        "            if nodo.left == None:\r\n",
        "                nodo.left = NodoArbol(value)\r\n",
        "            #regla 2\r\n",
        "            else:\r\n",
        "                self.__insert__( nodo.left , value )\r\n",
        "\r\n",
        "        else:\r\n",
        "            if nodo.right == None:\r\n",
        "                nodo.right = NodoArbol( value )\r\n",
        "            else:\r\n",
        "                self.__insert__( nodo.right , value )\r\n",
        "\r\n",
        "    def __recorrido_in(self,nodo):\r\n",
        "        if nodo != None:\r\n",
        "            self.__recorrido_in(nodo.left)\r\n",
        "            print(nodo.data, end=\" , \")\r\n",
        "            self.__recorrido_in(nodo.right)\r\n",
        "\r\n",
        "    def transversal( self , format=\"inorden\"):\r\n",
        "        if format == \"inorden\":\r\n",
        "            self.__recorrido_in( self.__root )\r\n",
        "        elif format == \"preorden\":\r\n",
        "            print(\"Recorrido en pre\")\r\n",
        "        elif format == \"posorden\":\r\n",
        "            print(\"posorden\")\r\n",
        "        else:\r\n",
        "            print(\"Error, ese formato no existe\")\r\n",
        "        print(\"\")\r\n"
      ],
      "execution_count": 37,
      "outputs": []
    },
    {
      "cell_type": "code",
      "metadata": {
        "colab": {
          "base_uri": "https://localhost:8080/"
        },
        "id": "QY_4ObEe101R",
        "outputId": "be0d0a2a-a0c4-4ce3-804b-b0c22ac90013"
      },
      "source": [
        "abb = BinarySearchTree()\r\n",
        "abb.insert(50)\r\n",
        "abb.insert(30)\r\n",
        "abb.insert(60)\r\n",
        "abb.insert(35)\r\n",
        "abb.insert(89)\r\n",
        "\r\n",
        "abb.transversal()"
      ],
      "execution_count": 39,
      "outputs": [
        {
          "output_type": "stream",
          "text": [
            "30 , 35 , 50 , 60 , 89 , \n"
          ],
          "name": "stdout"
        }
      ]
    }
  ]
}