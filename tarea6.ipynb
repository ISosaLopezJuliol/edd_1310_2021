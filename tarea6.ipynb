{
  "nbformat": 4,
  "nbformat_minor": 0,
  "metadata": {
    "colab": {
      "name": "tarea6.ipynb",
      "provenance": [],
      "authorship_tag": "ABX9TyPQ3pIuCyEV0cWLDyL9O9xW",
      "include_colab_link": true
    },
    "kernelspec": {
      "name": "python3",
      "display_name": "Python 3"
    }
  },
  "cells": [
    {
      "cell_type": "markdown",
      "metadata": {
        "id": "view-in-github",
        "colab_type": "text"
      },
      "source": [
        "<a href=\"https://colab.research.google.com/github/ISosaLopezJuliol/edd_1310_2021/blob/master/tarea6.ipynb\" target=\"_parent\"><img src=\"https://colab.research.google.com/assets/colab-badge.svg\" alt=\"Open In Colab\"/></a>"
      ]
    },
    {
      "cell_type": "code",
      "metadata": {
        "colab": {
          "base_uri": "https://localhost:8080/"
        },
        "id": "3UAXvP2vwzPi",
        "outputId": "cfce7e61-40a0-4140-a52a-c33cc5326591"
      },
      "source": [
        "class Nodo:\n",
        "    def __init__( self , value , siguiente= None):\n",
        "        self.data = value       # falta encapsulamiento\n",
        "        self.siguiente = siguiente\n",
        "\n",
        "class LinkedList:\n",
        "    def __init__( self ): # haskjdhasjkdhasjh aksjdh\n",
        "        self.__head = None\n",
        "\n",
        "    def is_empty( self ):\n",
        "        return self.__head == None\n",
        "\n",
        "    def append( self , value ):\n",
        "        nuevo = Nodo( value )\n",
        "        if self.__head == None: # self.is_empty()\n",
        "            self.__head = nuevo\n",
        "        else:\n",
        "            curr_node = self.__head\n",
        "            while curr_node.siguiente != None:\n",
        "                curr_node = curr_node.siguiente\n",
        "            curr_node.siguiente = nuevo\n",
        "\n",
        "    def transversal( self ):\n",
        "        curr_node = self.__head\n",
        "        while curr_node != None:\n",
        "            print(f\" { curr_node.data } -> \" , end=\"\")\n",
        "            curr_node = curr_node.siguiente\n",
        "        print(\" \")\n",
        "\n",
        "    def tail( self ):\n",
        "        curr_node = self.__head\n",
        "        while curr_node.siguiente != None:\n",
        "            curr_node = curr_node.siguiente\n",
        "        return curr_node\n",
        "\n",
        "    def remove( self , value ):\n",
        "        curr_node = self.__head\n",
        "        if self.__head.data == value:\n",
        "            self.__head = self.__head.siguiente\n",
        "        else:\n",
        "            anterior = None\n",
        "            while curr_node.data != value and curr_node.siguiente != None:\n",
        "                anterior = curr_node\n",
        "                curr_node= curr_node.siguiente\n",
        "            if curr_node.data == value:\n",
        "                anterior.siguiente = curr_node.siguiente\n",
        "            else:\n",
        "                 print(\"El dato no esta en la lista\")\n",
        "    def preppend(self , value ):\n",
        "      nuevo = Nodo( value , self.__head)\n",
        "      self.__head = nuevo\n",
        "    \n",
        "    def get (self, posicion= None): #Por defecto regresa el ultimo \n",
        "        contador=0\n",
        "        dato= None\n",
        "        if posicion == None:\n",
        "            dato = self.tail().data\n",
        "        else:\n",
        "            curr_node = self.__head\n",
        "                \n",
        "            while contador != posicion:\n",
        "                    curr_node= curr_node.siguiente\n",
        "                    contador= contador + 1\n",
        "            dato= curr_node.data\n",
        "        return dato\n",
        "\n",
        "l = LinkedList()\n",
        "print(f\"L esta vacia ? { l.is_empty() } \")\n",
        "l.append(10)\n",
        "l.append(5)\n",
        "l.append(6)\n",
        "l.append(20)\n",
        "print(f\"L esta vacia ? { l.is_empty() } \")\n",
        "l.transversal()\n",
        "l.remove(10)\n",
        "l.transversal()\n",
        "l.preppend(3)\n",
        "l.transversal()\n",
        "x = l.tail()\n",
        "print(x.data)\n",
        "print(l.get(2))"
      ],
      "execution_count": 7,
      "outputs": [
        {
          "output_type": "stream",
          "text": [
            "L esta vacia ? True \n",
            "L esta vacia ? False \n",
            " 10 ->  5 ->  6 ->  20 ->  \n",
            " 5 ->  6 ->  20 ->  \n",
            " 3 ->  5 ->  6 ->  20 ->  \n",
            "20\n",
            "6\n"
          ],
          "name": "stdout"
        }
      ]
    }
  ]
}