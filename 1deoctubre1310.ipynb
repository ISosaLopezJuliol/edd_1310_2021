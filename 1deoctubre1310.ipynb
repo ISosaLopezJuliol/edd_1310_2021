{
  "nbformat": 4,
  "nbformat_minor": 0,
  "metadata": {
    "colab": {
      "name": "1deoctubre1310.ipynb",
      "provenance": [],
      "authorship_tag": "ABX9TyNBZhwfxIW3PaOYGjVuhSAT",
      "include_colab_link": true
    },
    "kernelspec": {
      "name": "python3",
      "display_name": "Python 3"
    }
  },
  "cells": [
    {
      "cell_type": "markdown",
      "metadata": {
        "id": "view-in-github",
        "colab_type": "text"
      },
      "source": [
        "<a href=\"https://colab.research.google.com/github/ISosaLopezJuliol/edd_1310_2021/blob/master/1deoctubre1310.ipynb\" target=\"_parent\"><img src=\"https://colab.research.google.com/assets/colab-badge.svg\" alt=\"Open In Colab\"/></a>"
      ]
    },
    {
      "cell_type": "markdown",
      "metadata": {
        "id": "5sTie3Uy7y6R"
      },
      "source": [
        "## intro python 3\n",
        "### variables\n",
        "tipo dinamico"
      ]
    },
    {
      "cell_type": "code",
      "metadata": {
        "id": "iYkzu3ZA7tfq",
        "outputId": "a1ef9282-479c-48d9-be85-13636321b015",
        "colab": {
          "base_uri": "https://localhost:8080/",
          "height": 68
        }
      },
      "source": [
        "escuela = \"Fes Aragon\"\n",
        "print (escuela)\n",
        "print (\"---------\")\n",
        "edad = 13\n",
        "estatura = 1.64\n",
        "fumador = True\n",
        "nombre = \"jose\"\n",
        "frase = \"\"\"Esta es una frase de multiples lineas y tambien es un tipo dato\"\"\"\n",
        "print (frase)\n",
        "nombre_completo=\"jose sosa cardenas \""
      ],
      "execution_count": 14,
      "outputs": [
        {
          "output_type": "stream",
          "text": [
            "Fes Aragon\n",
            "---------\n",
            "Esta es una frase de multiples lineas y tambien es un tipo dato\n"
          ],
          "name": "stdout"
        }
      ]
    },
    {
      "cell_type": "markdown",
      "metadata": {
        "id": "AvxBb_PJ7x9s"
      },
      "source": [
        "#print\n",
        "con comas, \n",
        "con signo de mas+\n",
        "con formato ()\n",
        "con el operador f\"\""
      ]
    },
    {
      "cell_type": "code",
      "metadata": {
        "id": "o4IWmeeC-EdI",
        "outputId": "2a4a3d55-afca-449c-b9b7-50aea03dab46",
        "colab": {
          "base_uri": "https://localhost:8080/",
          "height": 34
        }
      },
      "source": [
        "print (nombre,edad)\n"
      ],
      "execution_count": 10,
      "outputs": [
        {
          "output_type": "stream",
          "text": [
            "jose 13\n"
          ],
          "name": "stdout"
        }
      ]
    },
    {
      "cell_type": "code",
      "metadata": {
        "id": "3e6mE0gd_hIM",
        "outputId": "8bc57ebd-5de9-4f36-a2a4-9c41b3c473e9",
        "colab": {
          "base_uri": "https://localhost:8080/",
          "height": 51
        }
      },
      "source": [
        "# + concatena\n",
        "print(nombre + str(edad))\n",
        "print(nombre + nombre_completo)"
      ],
      "execution_count": 15,
      "outputs": [
        {
          "output_type": "stream",
          "text": [
            "jose13\n",
            "josejose sosa cardenas \n"
          ],
          "name": "stdout"
        }
      ]
    },
    {
      "cell_type": "code",
      "metadata": {
        "id": "V6vJlpGp_g7d",
        "outputId": "3f94b095-2e6c-410d-a3e3-e5eba631a119",
        "colab": {
          "base_uri": "https://localhost:8080/",
          "height": 68
        }
      },
      "source": [
        "# con formato = su nombre es jose y su edad es de 13 años.\n",
        "print(\"su nombre es\",nombre,\"y su edad es de\",edad,\"años\")\n",
        "print(\"su nombre es {0} y su edad es de {1} años.\".format(nombre,edad))\n",
        "print(\"su nombre es {1} y su edad es de {0} años.\".format(nombre,edad))\n"
      ],
      "execution_count": 19,
      "outputs": [
        {
          "output_type": "stream",
          "text": [
            "su nombre es jose y su edad es de 13 años\n",
            "su nombre es jose y su edad es de 13 años.\n",
            "su nombre es 13 y su edad es de jose años.\n"
          ],
          "name": "stdout"
        }
      ]
    },
    {
      "cell_type": "code",
      "metadata": {
        "id": "pIMSzWIqCR4V",
        "outputId": "78924963-c643-4869-8374-c01653d5a6f4",
        "colab": {
          "base_uri": "https://localhost:8080/",
          "height": 34
        }
      },
      "source": [
        "#con formato con el operador con fotmato f\"\"\n",
        "print(f\"su nombre es {nombre} y su edad es de {edad} años.\")"
      ],
      "execution_count": 17,
      "outputs": [
        {
          "output_type": "stream",
          "text": [
            "su nombre es (nombre) y su edad es de (edad) años.\n"
          ],
          "name": "stdout"
        }
      ]
    },
    {
      "cell_type": "markdown",
      "metadata": {
        "id": "7WLXxojuDST7"
      },
      "source": [
        "#caracter estacape\n",
        "  \n",
        "  \\n salto de linea\n",
        "\n",
        "  \\t tabulador\n",
        "\n",
        "  \\a beep\n",
        "  \n",
        "  \"imprimir comilla doble"
      ]
    },
    {
      "cell_type": "code",
      "metadata": {
        "id": "-cwjCV9BKHbz",
        "outputId": "0f711e11-46c3-42ee-972b-398ff5cc9155",
        "colab": {
          "base_uri": "https://localhost:8080/",
          "height": 51
        }
      },
      "source": [
        "\"\"\"\n",
        "esto es un comentario de multiple linea\n",
        "\"\"\"\n",
        "print(f\"\\tMi nombre es\\n\\t\\t {nombre}\")"
      ],
      "execution_count": 46,
      "outputs": [
        {
          "output_type": "stream",
          "text": [
            "\tMi nombre es\n",
            "\t\t jose\n"
          ],
          "name": "stdout"
        }
      ]
    },
    {
      "cell_type": "markdown",
      "metadata": {
        "id": "ogkpIxrUEBRs"
      },
      "source": [
        "#ayuda  de tipo de dato python \n",
        "dir() help"
      ]
    },
    {
      "cell_type": "code",
      "metadata": {
        "id": "Eaw0rRVKE2o4"
      },
      "source": [
        "# str, int, float, bool . . . list, dict, set\n",
        "help(str)"
      ],
      "execution_count": null,
      "outputs": []
    },
    {
      "cell_type": "code",
      "metadata": {
        "id": "96sQOJQEFlmW",
        "outputId": "f94489c2-ea2f-4f06-9e26-cc9f25de5847",
        "colab": {
          "base_uri": "https://localhost:8080/",
          "height": 51
        }
      },
      "source": [
        "print(nombre_completo.capitalize())\n",
        "print(nombre_completo.upper() , end=\"-----\")\n",
        "print(nombre_completo.title())\n"
      ],
      "execution_count": 20,
      "outputs": [
        {
          "output_type": "stream",
          "text": [
            "Jose sosa cardenas \n",
            "JOSE SOSA CARDENAS -----Jose Sosa Cardenas \n"
          ],
          "name": "stdout"
        }
      ]
    },
    {
      "cell_type": "code",
      "metadata": {
        "id": "cLPscbWtGC7c"
      },
      "source": [
        "help(print)"
      ],
      "execution_count": null,
      "outputs": []
    },
    {
      "cell_type": "markdown",
      "metadata": {
        "id": "aV46AcilHqXP"
      },
      "source": [
        "# Clase string\n",
        "es manejado como un arreglo (c o java) o lista (python)\n",
        "\n",
        "\n",
        "\"telefono = \"huawei mate 30 pro\"\n",
        "\n"
      ]
    },
    {
      "cell_type": "code",
      "metadata": {
        "id": "GVtMF983IFey",
        "outputId": "fb9aab63-9cbc-42da-ad38-90b99103e764",
        "colab": {
          "base_uri": "https://localhost:8080/",
          "height": 34
        }
      },
      "source": [
        "telefono = \"huawei mate 30 pro\"\n",
        "print(telefono[5])\n"
      ],
      "execution_count": 21,
      "outputs": [
        {
          "output_type": "stream",
          "text": [
            "i\n"
          ],
          "name": "stdout"
        }
      ]
    },
    {
      "cell_type": "markdown",
      "metadata": {
        "id": "ih3z57SRIYGW"
      },
      "source": [
        "#slicing (rebanada)\n",
        "\n",
        "[ int : stop : incremento] nota : el stop no se incluye, termina en el valor anterior al stop\n"
      ]
    },
    {
      "cell_type": "code",
      "metadata": {
        "id": "oSq5WCPOI7pg",
        "outputId": "93309a64-1d3f-4a15-c269-c84ecb1a7ce6",
        "colab": {
          "base_uri": "https://localhost:8080/",
          "height": 102
        }
      },
      "source": [
        "print(telefono[7:11:1])\n",
        "# el inicio y el incremento son opcionales\n",
        "print(telefono[:11:])\n",
        "# el valor por defecto de stop es len (str)\n",
        "print(telefono[::-1])\n",
        "#\n",
        "print(telefono[-3::1])\n",
        "#slacing negativo\n",
        "ini = -3\n",
        "inc = 1\n",
        "print(telefono[ini::inc])"
      ],
      "execution_count": 31,
      "outputs": [
        {
          "output_type": "stream",
          "text": [
            "mate\n",
            "huawei mate\n",
            "orp 03 etam iewauh\n",
            "pro\n",
            "pro\n"
          ],
          "name": "stdout"
        }
      ]
    },
    {
      "cell_type": "markdown",
      "metadata": {
        "id": "Fl7FlNaQNMuH"
      },
      "source": [
        "#funciones de string\n",
        "Existen metodos muy utiles en esta clase.\n",
        " "
      ]
    },
    {
      "cell_type": "code",
      "metadata": {
        "id": "dIGE816iNXNB",
        "outputId": "049e53c9-e56a-415d-d3ee-2d8d14f0706c",
        "colab": {
          "base_uri": "https://localhost:8080/",
          "height": 391
        }
      },
      "source": [
        "facultad=\"    facultad de estudios superiores aragon      \\n\"\n",
        "print(facultad.count(\"\")) #cuenta el numero de elementos en la cadena \n",
        "print(facultad.find(\"s\")) # te da el lugar del elemento\n",
        "print(facultad.index(\"s\")) #indice de la primera coincidencia parecido al find\n",
        "print(facultad.strip()) #quita los espacios en linea \n",
        "tamaño= len(facultad)\n",
        "print(len(facultad)) #el \"len\" regresa la longitud del string\n",
        "print(f\"tamaño de la cadena es {tamaño} caracteres\")\n",
        "print(facultad.split(\"u\")) # corta el elemento elegido\n",
        "print(facultad)\n",
        "print(facultad.strip(\" \"))\n",
        "print(facultad.strip().split(\" \") ) # quita los espacios \n",
        "\n",
        "print(\"------------------\")\n",
        "#copiar cadenas \n",
        "otra_cadena = facultad\n",
        "print(otra_cadena)\n",
        "facultad=\"Fes Aragón\"\n",
        "print(facultad)\n",
        "print(otra_cadena)\n",
        "\n",
        "# copiar listas\n",
        "colores = [\"rojo\",\"verde\"]\n",
        "otra = colores\n",
        "print(colores)\n",
        "print(otra)\n",
        "otra.append(\"rosa\")\n",
        "print(colores)\n",
        "print(otra)"
      ],
      "execution_count": 54,
      "outputs": [
        {
          "output_type": "stream",
          "text": [
            "50\n",
            "17\n",
            "17\n",
            "facultad de estudios superiores aragon\n",
            "49\n",
            "tamaño de la cadena es 49 caracteres\n",
            "['    fac', 'ltad de est', 'dios s', 'periores aragon      \\n']\n",
            "    facultad de estudios superiores aragon      \n",
            "\n",
            "facultad de estudios superiores aragon      \n",
            "\n",
            "['facultad', 'de', 'estudios', 'superiores', 'aragon']\n",
            "------------------\n",
            "    facultad de estudios superiores aragon      \n",
            "\n",
            "Fes Aragón\n",
            "    facultad de estudios superiores aragon      \n",
            "\n",
            "['rojo', 'verde']\n",
            "['rojo', 'verde']\n",
            "['rojo', 'verde', 'rosa']\n",
            "['rojo', 'verde', 'rosa']\n"
          ],
          "name": "stdout"
        }
      ]
    }
  ]
}