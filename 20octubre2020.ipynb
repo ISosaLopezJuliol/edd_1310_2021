{
  "nbformat": 4,
  "nbformat_minor": 0,
  "metadata": {
    "colab": {
      "name": "20octubre2020.ipynb",
      "provenance": [],
      "authorship_tag": "ABX9TyPYWhq9F0vM1sT/m1sYJa2g",
      "include_colab_link": true
    },
    "kernelspec": {
      "name": "python3",
      "display_name": "Python 3"
    }
  },
  "cells": [
    {
      "cell_type": "markdown",
      "metadata": {
        "id": "view-in-github",
        "colab_type": "text"
      },
      "source": [
        "<a href=\"https://colab.research.google.com/github/ISosaLopezJuliol/edd_1310_2021/blob/master/20octubre2020.ipynb\" target=\"_parent\"><img src=\"https://colab.research.google.com/assets/colab-badge.svg\" alt=\"Open In Colab\"/></a>"
      ]
    },
    {
      "cell_type": "code",
      "metadata": {
        "id": "6BKRnEw8yL_x",
        "outputId": "2a0771f1-2fa6-4895-da59-00d0962f5bcf",
        "colab": {
          "base_uri": "https://localhost:8080/",
          "height": 269
        }
      },
      "source": [
        "archivo = open('numerostxt' , 'rt')\n",
        "for linea in archivo.readlines():\n",
        "  for trunc in linea.split(','):\n",
        "    print(trunc.strip())"
      ],
      "execution_count": 9,
      "outputs": [
        {
          "output_type": "stream",
          "text": [
            "23\n",
            "23\n",
            "44\n",
            "55\n",
            "5\n",
            "44\n",
            "4\n",
            "5\n",
            "7\n",
            "7\n",
            "6\n",
            "5\n",
            "4\n",
            "2\n",
            "1\n"
          ],
          "name": "stdout"
        }
      ]
    },
    {
      "cell_type": "code",
      "metadata": {
        "id": "U9B-cYFM1_kx",
        "outputId": "231ddb14-885e-4010-f2fb-c4c1ed38f363",
        "colab": {
          "base_uri": "https://localhost:8080/",
          "height": 269
        }
      },
      "source": [
        "archivo = open('numerostxt' , 'rt')\n",
        "for linea in archivo.readlines()[:3:] :\n",
        "  for trunc in linea.split(','):\n",
        "    print(trunc.strip())"
      ],
      "execution_count": 11,
      "outputs": [
        {
          "output_type": "stream",
          "text": [
            "23\n",
            "23\n",
            "44\n",
            "55\n",
            "5\n",
            "44\n",
            "4\n",
            "5\n",
            "7\n",
            "7\n",
            "6\n",
            "5\n",
            "4\n",
            "2\n",
            "1\n"
          ],
          "name": "stdout"
        }
      ]
    },
    {
      "cell_type": "markdown",
      "metadata": {
        "id": "G5dmyiwR2pW9"
      },
      "source": [
        "# sintaxis del for en Python\n",
        "\n",
        "dos versiones de for\n",
        "\n",
        "1. range\n",
        "1. in iterator"
      ]
    },
    {
      "cell_type": "code",
      "metadata": {
        "id": "EZDpvl0t28F4",
        "outputId": "7568a5c1-3619-44b4-8dcc-11bf481d12a5",
        "colab": {
          "base_uri": "https://localhost:8080/",
          "height": 202
        }
      },
      "source": [
        "r = range(0,10,2)\n",
        "for x in r:\n",
        "  print(x)\n",
        "\n",
        "colores = ['rojo','rasa','azul','fiusca']\n",
        "\n",
        "for indice in range(0,len(colores),1): # seria un for de indice = 0;indice <4;indice ++ \n",
        "   # print(colores[indice])             # para modificar el elemento o la lista \n",
        "     colores[indice]=colores[indice].upper() + \" \" + str(indice)\n",
        "\n",
        "# for sobre un iterador \n",
        "# para mostrar una lista\n",
        "print('\\n')\n",
        "for col in colores:\n",
        "  print(col)"
      ],
      "execution_count": 33,
      "outputs": [
        {
          "output_type": "stream",
          "text": [
            "0\n",
            "2\n",
            "4\n",
            "6\n",
            "8\n",
            "\n",
            "\n",
            "ROJO 0\n",
            "RASA 1\n",
            "AZUL 2\n",
            "FIUSCA 3\n"
          ],
          "name": "stdout"
        }
      ]
    },
    {
      "cell_type": "markdown",
      "metadata": {
        "id": "k6P7lqya8Bta"
      },
      "source": [
        "# generador\n",
        "\n",
        "[ 0 valor for x in range(10) ]\n",
        "\n",
        "[[0,0,0]\n",
        "\n",
        "[0,0,0]\n",
        "\n",
        "[0,0,0]]\n",
        "\n",
        "3x3"
      ]
    },
    {
      "cell_type": "code",
      "metadata": {
        "id": "D0OyCZUG8ANE",
        "outputId": "08ac3422-b4cf-4a7a-9244-792c00927ba9",
        "colab": {
          "base_uri": "https://localhost:8080/",
          "height": 84
        }
      },
      "source": [
        "lista = [x for x in range(10)]\n",
        "print(lista)\n",
        "lista1 = ['hola' for x in range(10)]\n",
        "print(lista1)\n",
        "lista2 = [colores for x in range(2)]\n",
        "print(lista2)\n",
        "lista3 = [[0,0,0] for x in range(3)]\n",
        "print(lista3)\n"
      ],
      "execution_count": 31,
      "outputs": [
        {
          "output_type": "stream",
          "text": [
            "[0, 1, 2, 3, 4, 5, 6, 7, 8, 9]\n",
            "['hola', 'hola', 'hola', 'hola', 'hola', 'hola', 'hola', 'hola', 'hola', 'hola']\n",
            "[['ROJO', 'ROSA', 'AZUL', 'FUCSIA'], ['ROJO', 'ROSA', 'AZUL', 'FUCSIA']]\n",
            "[[0, 0, 0], [0, 0, 0], [0, 0, 0]]\n"
          ],
          "name": "stdout"
        }
      ]
    },
    {
      "cell_type": "code",
      "metadata": {
        "id": "CETs4-MI99tI",
        "outputId": "28cb8a8b-a6fe-4478-83d0-28c5dd173a2c",
        "colab": {
          "base_uri": "https://localhost:8080/",
          "height": 34
        }
      },
      "source": [
        "ren = 3\n",
        "col = 3\n",
        "lista = [[0 for x in range(col)] for x in range(ren)]\n",
        "print(lista)\n"
      ],
      "execution_count": 35,
      "outputs": [
        {
          "output_type": "stream",
          "text": [
            "[[0, 0, 0], [0, 0, 0], [0, 0, 0]]\n"
          ],
          "name": "stdout"
        }
      ]
    },
    {
      "cell_type": "markdown",
      "metadata": {
        "id": "mE2XP7cg9HgI"
      },
      "source": [
        "# POO en Python\n",
        "- clase\n",
        "- creacion de objetos\n",
        "- constructor\n",
        "- encapsulamiento\n",
        "- métodos\n",
        "- atributos\n",
        "- heremcia\n"
      ]
    },
    {
      "cell_type": "code",
      "metadata": {
        "id": "5DDOOqbR_gto",
        "outputId": "cc1d4045-e40d-4e86-c6cb-6f0cc076d2a3",
        "colab": {
          "base_uri": "https://localhost:8080/",
          "height": 34
        }
      },
      "source": [
        "class computadora: \n",
        "  def __init__ (self, m , p ):\n",
        "    self.__marca=m      # con 2 __ se pone private\n",
        "    self.__procesador=p\n",
        "  def to_string(self):\n",
        "    return \"Marca:\"+self.__marca+' procesador:'+self.__procesador\n",
        "mi_pc = computadora( 'Toshiba' , 'Intel i7')  \n",
        "\n",
        "print(mi_pc.to_string())"
      ],
      "execution_count": 44,
      "outputs": [
        {
          "output_type": "stream",
          "text": [
            "Marca:Toshiba procesador:intel i7\n"
          ],
          "name": "stdout"
        }
      ]
    }
  ]
}